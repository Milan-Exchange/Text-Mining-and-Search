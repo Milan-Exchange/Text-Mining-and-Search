{
 "cells": [
  {
   "cell_type": "code",
   "execution_count": 2,
   "metadata": {
    "pycharm": {
     "name": "#%%\n"
    }
   },
   "outputs": [],
   "source": [
    "import pandas as pd\n",
    "import numpy as np\n",
    "import string\n",
    "import re\n",
    "import nltk\n",
    "from collections import Counter\n",
    "from nltk.corpus import stopwords\n",
    "from nltk.stem import WordNetLemmatizer\n",
    "from nltk.tokenize import TweetTokenizer\n",
    "from nltk import bigrams"
   ]
  },
  {
   "cell_type": "code",
   "execution_count": 3,
   "metadata": {
    "pycharm": {
     "name": "#%%\n"
    }
   },
   "outputs": [
    {
     "name": "stderr",
     "output_type": "stream",
     "text": [
      "[nltk_data] Downloading package stopwords to\n",
      "[nltk_data]     C:\\Users\\jjasi\\AppData\\Roaming\\nltk_data...\n",
      "[nltk_data]   Package stopwords is already up-to-date!\n"
     ]
    },
    {
     "data": {
      "text/plain": [
       "True"
      ]
     },
     "execution_count": 3,
     "metadata": {},
     "output_type": "execute_result"
    }
   ],
   "source": [
    "nltk.download('stopwords')"
   ]
  },
  {
   "cell_type": "code",
   "execution_count": 4,
   "metadata": {
    "pycharm": {
     "name": "#%%\n"
    }
   },
   "outputs": [],
   "source": [
    "# Loading a dataset\n",
    "reviews = pd.read_csv('./data/tripadvisor_hotel_reviews.csv')"
   ]
  },
  {
   "cell_type": "code",
   "execution_count": 5,
   "metadata": {
    "pycharm": {
     "name": "#%%\n"
    }
   },
   "outputs": [],
   "source": [
    "# Preprocessing function\n",
    "def preprocess(text):\n",
    "    # Cleaning whitespaces\n",
    "    text_white = re.sub(r'\\s+', ' ', text, flags=re.UNICODE)\n",
    "\n",
    "    # Removing numbers\n",
    "    text_number = re.sub(r'\\d+', '', text_white)\n",
    "\n",
    "    # Lowering text\n",
    "    text_lower = text_number.lower()\n",
    "\n",
    "    # Removing punctuation\n",
    "    text_punctuation = text_lower.translate(str.maketrans('', '', string.punctuation))\n",
    "\n",
    "    return text_punctuation"
   ]
  },
  {
   "cell_type": "code",
   "execution_count": 6,
   "metadata": {
    "pycharm": {
     "name": "#%%\n"
    }
   },
   "outputs": [],
   "source": [
    "# Lemmatizing function\n",
    "lemmatizer = WordNetLemmatizer()\n",
    "tokenizer = TweetTokenizer()\n",
    "\n",
    "def lemmatize(text):\n",
    "    text_word = [lemmatizer.lemmatize(word) for word in tokenizer.tokenize(text)]\n",
    "\n",
    "    return text_word"
   ]
  },
  {
   "cell_type": "code",
   "execution_count": 7,
   "metadata": {
    "pycharm": {
     "name": "#%%\n"
    }
   },
   "outputs": [],
   "source": [
    "# Stopwords removal function\n",
    "stop_words = set(stopwords.words('english'))\n",
    "\n",
    "def remove_stopwords(text):\n",
    "    text_stopwords = [word for word in text if word not in stop_words]\n",
    "\n",
    "    return text_stopwords"
   ]
  },
  {
   "cell_type": "code",
   "execution_count": 10,
   "metadata": {
    "pycharm": {
     "name": "#%%\n"
    }
   },
   "outputs": [],
   "source": [
    "# Bigrams function\n",
    "def get_bigrams(text):\n",
    "    text_bigrams = [bigram for bigram in bigrams(text)]\n",
    "\n",
    "    return text_bigrams"
   ]
  },
  {
   "cell_type": "code",
   "execution_count": 11,
   "metadata": {
    "pycharm": {
     "name": "#%%\n"
    }
   },
   "outputs": [],
   "source": [
    "# Applying processing function\n",
    "reviews['Review_processed'] = reviews.Review.apply(lambda row : preprocess(row))"
   ]
  },
  {
   "cell_type": "code",
   "execution_count": 12,
   "metadata": {
    "pycharm": {
     "name": "#%%\n"
    }
   },
   "outputs": [],
   "source": [
    "# Applying lemmatizing function\n",
    "reviews['Review_lemmatized'] = reviews.Review_processed.apply(lambda row : lemmatize(row))"
   ]
  },
  {
   "cell_type": "code",
   "execution_count": 13,
   "metadata": {
    "pycharm": {
     "name": "#%%\n"
    }
   },
   "outputs": [],
   "source": [
    "# Applying stopwords removal function\n",
    "reviews['Review_stopwords'] = reviews.Review_lemmatized.apply(lambda row : remove_stopwords(row))"
   ]
  },
  {
   "cell_type": "code",
   "execution_count": 14,
   "metadata": {},
   "outputs": [],
   "source": [
    "all_stop_words = []\n",
    "\n",
    "for _, row in reviews.iterrows():\n",
    "    l = [e for e in row.Review_lemmatized if e not in row.Review_stopwords]\n",
    "    all_stop_words.extend(l)\n",
    "\n",
    "stop_words_df = pd.DataFrame.from_dict(Counter(all_stop_words), orient='index', columns=['occurrence_number'])"
   ]
  },
  {
   "cell_type": "code",
   "execution_count": 22,
   "metadata": {},
   "outputs": [
    {
     "data": {
      "text/plain": [
       "<AxesSubplot: title={'center': 'Not removed stopwords with the highest occurrence number'}>"
      ]
     },
     "execution_count": 22,
     "metadata": {},
     "output_type": "execute_result"
    },
    {
     "data": {
      "image/png": "[encoded data removed]",
      "text/plain": [
       "<Figure size 640x480 with 1 Axes>"
      ]
     },
     "metadata": {},
     "output_type": "display_data"
    }
   ],
   "source": [
    "stop_words_df.sort_values(by='occurrence_number')[-10:].plot(kind=\"bar\", title=\"Not removed stopwords with the highest occurrence number\")"
   ]
  },
  {
   "cell_type": "code",
   "execution_count": 12,
   "metadata": {
    "pycharm": {
     "name": "#%%\n"
    }
   },
   "outputs": [],
   "source": [
    "# Applying bigrams function\n",
    "reviews['Review_bigrams'] = reviews.Review_stopwords.apply(lambda row : get_bigrams(row))"
   ]
  },
  {
   "cell_type": "code",
   "execution_count": 13,
   "metadata": {
    "pycharm": {
     "name": "#%%\n"
    }
   },
   "outputs": [
    {
     "data": {
      "text/html": [
       "<div>\n",
       "<style scoped>\n",
       "    .dataframe tbody tr th:only-of-type {\n",
       "        vertical-align: middle;\n",
       "    }\n",
       "\n",
       "    .dataframe tbody tr th {\n",
       "        vertical-align: top;\n",
       "    }\n",
       "\n",
       "    .dataframe thead th {\n",
       "        text-align: right;\n",
       "    }\n",
       "</style>\n",
       "<table border=\"1\" class=\"dataframe\">\n",
       "  <thead>\n",
       "    <tr style=\"text-align: right;\">\n",
       "      <th></th>\n",
       "      <th>Review</th>\n",
       "      <th>Review_processed</th>\n",
       "      <th>Review_lemmatized</th>\n",
       "      <th>Review_stopwords</th>\n",
       "      <th>Review_bigrams</th>\n",
       "    </tr>\n",
       "  </thead>\n",
       "  <tbody>\n",
       "    <tr>\n",
       "      <th>0</th>\n",
       "      <td>nice hotel expensive parking got good deal sta...</td>\n",
       "      <td>nice hotel expensive parking got good deal sta...</td>\n",
       "      <td>[nice, hotel, expensive, parking, got, good, d...</td>\n",
       "      <td>[nice, hotel, expensive, parking, got, good, d...</td>\n",
       "      <td>[(nice, hotel), (hotel, expensive), (expensive...</td>\n",
       "    </tr>\n",
       "    <tr>\n",
       "      <th>1</th>\n",
       "      <td>ok nothing special charge diamond member hilto...</td>\n",
       "      <td>ok nothing special charge diamond member hilto...</td>\n",
       "      <td>[ok, nothing, special, charge, diamond, member...</td>\n",
       "      <td>[ok, nothing, special, charge, diamond, member...</td>\n",
       "      <td>[(ok, nothing), (nothing, special), (special, ...</td>\n",
       "    </tr>\n",
       "    <tr>\n",
       "      <th>2</th>\n",
       "      <td>nice rooms not 4* experience hotel monaco seat...</td>\n",
       "      <td>nice rooms not  experience hotel monaco seattl...</td>\n",
       "      <td>[nice, room, not, experience, hotel, monaco, s...</td>\n",
       "      <td>[nice, room, experience, hotel, monaco, seattl...</td>\n",
       "      <td>[(nice, room), (room, experience), (experience...</td>\n",
       "    </tr>\n",
       "    <tr>\n",
       "      <th>3</th>\n",
       "      <td>unique, great stay, wonderful time hotel monac...</td>\n",
       "      <td>unique great stay wonderful time hotel monaco ...</td>\n",
       "      <td>[unique, great, stay, wonderful, time, hotel, ...</td>\n",
       "      <td>[unique, great, stay, wonderful, time, hotel, ...</td>\n",
       "      <td>[(unique, great), (great, stay), (stay, wonder...</td>\n",
       "    </tr>\n",
       "    <tr>\n",
       "      <th>4</th>\n",
       "      <td>great stay great stay, went seahawk game aweso...</td>\n",
       "      <td>great stay great stay went seahawk game awesom...</td>\n",
       "      <td>[great, stay, great, stay, went, seahawk, game...</td>\n",
       "      <td>[great, stay, great, stay, went, seahawk, game...</td>\n",
       "      <td>[(great, stay), (stay, great), (great, stay), ...</td>\n",
       "    </tr>\n",
       "    <tr>\n",
       "      <th>...</th>\n",
       "      <td>...</td>\n",
       "      <td>...</td>\n",
       "      <td>...</td>\n",
       "      <td>...</td>\n",
       "      <td>...</td>\n",
       "    </tr>\n",
       "    <tr>\n",
       "      <th>20486</th>\n",
       "      <td>best kept secret 3rd time staying charm, not 5...</td>\n",
       "      <td>best kept secret rd time staying charm not sta...</td>\n",
       "      <td>[best, kept, secret, rd, time, staying, charm,...</td>\n",
       "      <td>[best, kept, secret, rd, time, staying, charm,...</td>\n",
       "      <td>[(best, kept), (kept, secret), (secret, rd), (...</td>\n",
       "    </tr>\n",
       "    <tr>\n",
       "      <th>20487</th>\n",
       "      <td>great location price view hotel great quick pl...</td>\n",
       "      <td>great location price view hotel great quick pl...</td>\n",
       "      <td>[great, location, price, view, hotel, great, q...</td>\n",
       "      <td>[great, location, price, view, hotel, great, q...</td>\n",
       "      <td>[(great, location), (location, price), (price,...</td>\n",
       "    </tr>\n",
       "    <tr>\n",
       "      <th>20488</th>\n",
       "      <td>ok just looks nice modern outside, desk staff ...</td>\n",
       "      <td>ok just looks nice modern outside desk staff n...</td>\n",
       "      <td>[ok, just, look, nice, modern, outside, desk, ...</td>\n",
       "      <td>[ok, look, nice, modern, outside, desk, staff,...</td>\n",
       "      <td>[(ok, look), (look, nice), (nice, modern), (mo...</td>\n",
       "    </tr>\n",
       "    <tr>\n",
       "      <th>20489</th>\n",
       "      <td>hotel theft ruined vacation hotel opened sept ...</td>\n",
       "      <td>hotel theft ruined vacation hotel opened sept ...</td>\n",
       "      <td>[hotel, theft, ruined, vacation, hotel, opened...</td>\n",
       "      <td>[hotel, theft, ruined, vacation, hotel, opened...</td>\n",
       "      <td>[(hotel, theft), (theft, ruined), (ruined, vac...</td>\n",
       "    </tr>\n",
       "    <tr>\n",
       "      <th>20490</th>\n",
       "      <td>people talking, ca n't believe excellent ratin...</td>\n",
       "      <td>people talking ca nt believe excellent ratings...</td>\n",
       "      <td>[people, talking, ca, nt, believe, excellent, ...</td>\n",
       "      <td>[people, talking, ca, nt, believe, excellent, ...</td>\n",
       "      <td>[(people, talking), (talking, ca), (ca, nt), (...</td>\n",
       "    </tr>\n",
       "  </tbody>\n",
       "</table>\n",
       "<p>20491 rows × 5 columns</p>\n",
       "</div>"
      ],
      "text/plain": [
       "                                                  Review  \\\n",
       "0      nice hotel expensive parking got good deal sta...   \n",
       "1      ok nothing special charge diamond member hilto...   \n",
       "2      nice rooms not 4* experience hotel monaco seat...   \n",
       "3      unique, great stay, wonderful time hotel monac...   \n",
       "4      great stay great stay, went seahawk game aweso...   \n",
       "...                                                  ...   \n",
       "20486  best kept secret 3rd time staying charm, not 5...   \n",
       "20487  great location price view hotel great quick pl...   \n",
       "20488  ok just looks nice modern outside, desk staff ...   \n",
       "20489  hotel theft ruined vacation hotel opened sept ...   \n",
       "20490  people talking, ca n't believe excellent ratin...   \n",
       "\n",
       "                                        Review_processed  \\\n",
       "0      nice hotel expensive parking got good deal sta...   \n",
       "1      ok nothing special charge diamond member hilto...   \n",
       "2      nice rooms not  experience hotel monaco seattl...   \n",
       "3      unique great stay wonderful time hotel monaco ...   \n",
       "4      great stay great stay went seahawk game awesom...   \n",
       "...                                                  ...   \n",
       "20486  best kept secret rd time staying charm not sta...   \n",
       "20487  great location price view hotel great quick pl...   \n",
       "20488  ok just looks nice modern outside desk staff n...   \n",
       "20489  hotel theft ruined vacation hotel opened sept ...   \n",
       "20490  people talking ca nt believe excellent ratings...   \n",
       "\n",
       "                                       Review_lemmatized  \\\n",
       "0      [nice, hotel, expensive, parking, got, good, d...   \n",
       "1      [ok, nothing, special, charge, diamond, member...   \n",
       "2      [nice, room, not, experience, hotel, monaco, s...   \n",
       "3      [unique, great, stay, wonderful, time, hotel, ...   \n",
       "4      [great, stay, great, stay, went, seahawk, game...   \n",
       "...                                                  ...   \n",
       "20486  [best, kept, secret, rd, time, staying, charm,...   \n",
       "20487  [great, location, price, view, hotel, great, q...   \n",
       "20488  [ok, just, look, nice, modern, outside, desk, ...   \n",
       "20489  [hotel, theft, ruined, vacation, hotel, opened...   \n",
       "20490  [people, talking, ca, nt, believe, excellent, ...   \n",
       "\n",
       "                                        Review_stopwords  \\\n",
       "0      [nice, hotel, expensive, parking, got, good, d...   \n",
       "1      [ok, nothing, special, charge, diamond, member...   \n",
       "2      [nice, room, experience, hotel, monaco, seattl...   \n",
       "3      [unique, great, stay, wonderful, time, hotel, ...   \n",
       "4      [great, stay, great, stay, went, seahawk, game...   \n",
       "...                                                  ...   \n",
       "20486  [best, kept, secret, rd, time, staying, charm,...   \n",
       "20487  [great, location, price, view, hotel, great, q...   \n",
       "20488  [ok, look, nice, modern, outside, desk, staff,...   \n",
       "20489  [hotel, theft, ruined, vacation, hotel, opened...   \n",
       "20490  [people, talking, ca, nt, believe, excellent, ...   \n",
       "\n",
       "                                          Review_bigrams  \n",
       "0      [(nice, hotel), (hotel, expensive), (expensive...  \n",
       "1      [(ok, nothing), (nothing, special), (special, ...  \n",
       "2      [(nice, room), (room, experience), (experience...  \n",
       "3      [(unique, great), (great, stay), (stay, wonder...  \n",
       "4      [(great, stay), (stay, great), (great, stay), ...  \n",
       "...                                                  ...  \n",
       "20486  [(best, kept), (kept, secret), (secret, rd), (...  \n",
       "20487  [(great, location), (location, price), (price,...  \n",
       "20488  [(ok, look), (look, nice), (nice, modern), (mo...  \n",
       "20489  [(hotel, theft), (theft, ruined), (ruined, vac...  \n",
       "20490  [(people, talking), (talking, ca), (ca, nt), (...  \n",
       "\n",
       "[20491 rows x 5 columns]"
      ]
     },
     "execution_count": 13,
     "metadata": {},
     "output_type": "execute_result"
    }
   ],
   "source": [
    "# Displaying processed data\n",
    "reviews[['Review', 'Review_processed', 'Review_lemmatized', 'Review_stopwords', 'Review_bigrams']]"
   ]
  },
  {
   "cell_type": "code",
   "execution_count": 14,
   "metadata": {},
   "outputs": [],
   "source": [
    "# getting reviews' length\n",
    "reviews['Words_number'] = reviews.Review_lemmatized.apply(lambda x: len(x))"
   ]
  },
  {
   "cell_type": "code",
   "execution_count": 15,
   "metadata": {},
   "outputs": [],
   "source": [
    "# getting reviews' commas number\n",
    "reviews['Commas'] = reviews.Review.apply(lambda review_text: review_text.count(','))"
   ]
  },
  {
   "cell_type": "code",
   "execution_count": 16,
   "metadata": {},
   "outputs": [],
   "source": [
    "# computing average length of a sentence\n",
    "# there are no '.' so I use ','\n",
    "# not sure if it should be used since there are no stopwords\n",
    "# it also has a bug :D, it counts spaces and there is always an extra one \n",
    "reviews['Average_length'] = reviews.Review.apply(lambda review_text: np.mean([len(sentence.split(' ')) for sentence in review_text.split(',')]))"
   ]
  },
  {
   "cell_type": "code",
   "execution_count": 17,
   "metadata": {
    "pycharm": {
     "name": "#%%\n"
    }
   },
   "outputs": [],
   "source": [
    "# Saving processed data\n",
    "reviews.to_csv('./data/reviews_clean.csv', index=False)"
   ]
  }
 ],
 "metadata": {
  "kernelspec": {
   "display_name": "nlp",
   "language": "python",
   "name": "python3"
  },
  "language_info": {
   "codemirror_mode": {
    "name": "ipython",
    "version": 3
   },
   "file_extension": ".py",
   "mimetype": "text/x-python",
   "name": "python",
   "nbconvert_exporter": "python",
   "pygments_lexer": "ipython3",
   "version": "3.9.16"
  },
  "vscode": {
   "interpreter": {
    "hash": "f3fe963e9a0b83cf28a8362cc78f49f353a5c8ac3bda40b0ce31664e419000ce"
   }
  }
 },
 "nbformat": 4,
 "nbformat_minor": 1
}
