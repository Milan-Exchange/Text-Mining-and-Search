{
 "cells": [
  {
   "cell_type": "code",
   "execution_count": 1,
   "metadata": {
    "collapsed": true,
    "pycharm": {
     "name": "#%%\n"
    }
   },
   "outputs": [],
   "source": [
    "import pandas as pd\n",
    "import string\n",
    "import re\n",
    "import nltk\n",
    "from nltk.corpus import stopwords\n",
    "from nltk.stem import WordNetLemmatizer\n",
    "from nltk.tokenize import TweetTokenizer\n",
    "from nltk import bigrams"
   ]
  },
  {
   "cell_type": "code",
   "execution_count": 2,
   "outputs": [
    {
     "name": "stderr",
     "output_type": "stream",
     "text": [
      "[nltk_data] Downloading package stopwords to\n",
      "[nltk_data]     C:\\Users\\Konrad\\AppData\\Roaming\\nltk_data...\n",
      "[nltk_data]   Package stopwords is already up-to-date!\n"
     ]
    },
    {
     "data": {
      "text/plain": "True"
     },
     "execution_count": 2,
     "metadata": {},
     "output_type": "execute_result"
    }
   ],
   "source": [
    "nltk.download('stopwords')"
   ],
   "metadata": {
    "collapsed": false,
    "pycharm": {
     "name": "#%%\n"
    }
   }
  },
  {
   "cell_type": "code",
   "execution_count": 3,
   "outputs": [],
   "source": [
    "# Loading a dataset\n",
    "reviews = pd.read_csv('./data/tripadvisor_hotel_reviews.csv')"
   ],
   "metadata": {
    "collapsed": false,
    "pycharm": {
     "name": "#%%\n"
    }
   }
  },
  {
   "cell_type": "code",
   "execution_count": 4,
   "outputs": [],
   "source": [
    "# Preprocessing function\n",
    "def preprocess(text):\n",
    "    # Cleaning whitespaces\n",
    "    text_white = re.sub(r'\\s+', ' ', text, flags=re.UNICODE)\n",
    "\n",
    "    # Removing numbers\n",
    "    text_number = re.sub(r'\\d+', '', text_white)\n",
    "\n",
    "    # Lowering text\n",
    "    text_lower = text_number.lower()\n",
    "\n",
    "    # Removing punctuation\n",
    "    text_punctuation = text_lower.translate(str.maketrans('', '', string.punctuation))\n",
    "\n",
    "    return text_punctuation"
   ],
   "metadata": {
    "collapsed": false,
    "pycharm": {
     "name": "#%%\n"
    }
   }
  },
  {
   "cell_type": "code",
   "execution_count": 5,
   "outputs": [],
   "source": [
    "# Lemmatizing function\n",
    "lemmatizer = WordNetLemmatizer()\n",
    "tokenizer = TweetTokenizer()\n",
    "\n",
    "def lemmatize(text):\n",
    "    text_word = [lemmatizer.lemmatize(word) for word in tokenizer.tokenize(text)]\n",
    "\n",
    "    return text_word"
   ],
   "metadata": {
    "collapsed": false,
    "pycharm": {
     "name": "#%%\n"
    }
   }
  },
  {
   "cell_type": "code",
   "execution_count": 6,
   "outputs": [],
   "source": [
    "# Stopwords removal function\n",
    "stop_words = set(stopwords.words('english'))\n",
    "\n",
    "def remove_stopwords(text):\n",
    "    text_stopwords = [word for word in text if word not in stop_words]\n",
    "\n",
    "    return text_stopwords"
   ],
   "metadata": {
    "collapsed": false,
    "pycharm": {
     "name": "#%%\n"
    }
   }
  },
  {
   "cell_type": "code",
   "execution_count": 7,
   "outputs": [],
   "source": [
    "# Bigrams function\n",
    "def get_bigrams(text):\n",
    "    text_bigrams = [bigram for bigram in bigrams(text)]\n",
    "\n",
    "    return text_bigrams"
   ],
   "metadata": {
    "collapsed": false,
    "pycharm": {
     "name": "#%%\n"
    }
   }
  },
  {
   "cell_type": "code",
   "execution_count": 8,
   "outputs": [],
   "source": [
    "# Applying processing function\n",
    "reviews['Review_processed'] = reviews.Review.apply(lambda row : preprocess(row))"
   ],
   "metadata": {
    "collapsed": false,
    "pycharm": {
     "name": "#%%\n"
    }
   }
  },
  {
   "cell_type": "code",
   "execution_count": 9,
   "outputs": [],
   "source": [
    "# Applying lemmatizing function\n",
    "reviews['Review_lemmatized'] = reviews.Review_processed.apply(lambda row : lemmatize(row))"
   ],
   "metadata": {
    "collapsed": false,
    "pycharm": {
     "name": "#%%\n"
    }
   }
  },
  {
   "cell_type": "code",
   "execution_count": 10,
   "outputs": [],
   "source": [
    "# Applying stopwords removal function\n",
    "reviews['Review_stopwords'] = reviews.Review_lemmatized.apply(lambda row : remove_stopwords(row))"
   ],
   "metadata": {
    "collapsed": false,
    "pycharm": {
     "name": "#%%\n"
    }
   }
  },
  {
   "cell_type": "code",
   "execution_count": 11,
   "outputs": [],
   "source": [
    "# Applying bigrams function\n",
    "reviews['Review_bigrams'] = reviews.Review_stopwords.apply(lambda row : get_bigrams(row))"
   ],
   "metadata": {
    "collapsed": false,
    "pycharm": {
     "name": "#%%\n"
    }
   }
  },
  {
   "cell_type": "code",
   "execution_count": 12,
   "outputs": [
    {
     "data": {
      "text/plain": "                                                  Review  \\\n0      nice hotel expensive parking got good deal sta...   \n1      ok nothing special charge diamond member hilto...   \n2      nice rooms not 4* experience hotel monaco seat...   \n3      unique, great stay, wonderful time hotel monac...   \n4      great stay great stay, went seahawk game aweso...   \n...                                                  ...   \n20486  best kept secret 3rd time staying charm, not 5...   \n20487  great location price view hotel great quick pl...   \n20488  ok just looks nice modern outside, desk staff ...   \n20489  hotel theft ruined vacation hotel opened sept ...   \n20490  people talking, ca n't believe excellent ratin...   \n\n                                        Review_processed  \\\n0      nice hotel expensive parking got good deal sta...   \n1      ok nothing special charge diamond member hilto...   \n2      nice rooms not  experience hotel monaco seattl...   \n3      unique great stay wonderful time hotel monaco ...   \n4      great stay great stay went seahawk game awesom...   \n...                                                  ...   \n20486  best kept secret rd time staying charm not sta...   \n20487  great location price view hotel great quick pl...   \n20488  ok just looks nice modern outside desk staff n...   \n20489  hotel theft ruined vacation hotel opened sept ...   \n20490  people talking ca nt believe excellent ratings...   \n\n                                       Review_lemmatized  \\\n0      [nice, hotel, expensive, parking, got, good, d...   \n1      [ok, nothing, special, charge, diamond, member...   \n2      [nice, room, not, experience, hotel, monaco, s...   \n3      [unique, great, stay, wonderful, time, hotel, ...   \n4      [great, stay, great, stay, went, seahawk, game...   \n...                                                  ...   \n20486  [best, kept, secret, rd, time, staying, charm,...   \n20487  [great, location, price, view, hotel, great, q...   \n20488  [ok, just, look, nice, modern, outside, desk, ...   \n20489  [hotel, theft, ruined, vacation, hotel, opened...   \n20490  [people, talking, ca, nt, believe, excellent, ...   \n\n                                        Review_stopwords  \\\n0      [nice, hotel, expensive, parking, got, good, d...   \n1      [ok, nothing, special, charge, diamond, member...   \n2      [nice, room, experience, hotel, monaco, seattl...   \n3      [unique, great, stay, wonderful, time, hotel, ...   \n4      [great, stay, great, stay, went, seahawk, game...   \n...                                                  ...   \n20486  [best, kept, secret, rd, time, staying, charm,...   \n20487  [great, location, price, view, hotel, great, q...   \n20488  [ok, look, nice, modern, outside, desk, staff,...   \n20489  [hotel, theft, ruined, vacation, hotel, opened...   \n20490  [people, talking, ca, nt, believe, excellent, ...   \n\n                                          Review_bigrams  \n0      [(nice, hotel), (hotel, expensive), (expensive...  \n1      [(ok, nothing), (nothing, special), (special, ...  \n2      [(nice, room), (room, experience), (experience...  \n3      [(unique, great), (great, stay), (stay, wonder...  \n4      [(great, stay), (stay, great), (great, stay), ...  \n...                                                  ...  \n20486  [(best, kept), (kept, secret), (secret, rd), (...  \n20487  [(great, location), (location, price), (price,...  \n20488  [(ok, look), (look, nice), (nice, modern), (mo...  \n20489  [(hotel, theft), (theft, ruined), (ruined, vac...  \n20490  [(people, talking), (talking, ca), (ca, nt), (...  \n\n[20491 rows x 5 columns]",
      "text/html": "<div>\n<style scoped>\n    .dataframe tbody tr th:only-of-type {\n        vertical-align: middle;\n    }\n\n    .dataframe tbody tr th {\n        vertical-align: top;\n    }\n\n    .dataframe thead th {\n        text-align: right;\n    }\n</style>\n<table border=\"1\" class=\"dataframe\">\n  <thead>\n    <tr style=\"text-align: right;\">\n      <th></th>\n      <th>Review</th>\n      <th>Review_processed</th>\n      <th>Review_lemmatized</th>\n      <th>Review_stopwords</th>\n      <th>Review_bigrams</th>\n    </tr>\n  </thead>\n  <tbody>\n    <tr>\n      <th>0</th>\n      <td>nice hotel expensive parking got good deal sta...</td>\n      <td>nice hotel expensive parking got good deal sta...</td>\n      <td>[nice, hotel, expensive, parking, got, good, d...</td>\n      <td>[nice, hotel, expensive, parking, got, good, d...</td>\n      <td>[(nice, hotel), (hotel, expensive), (expensive...</td>\n    </tr>\n    <tr>\n      <th>1</th>\n      <td>ok nothing special charge diamond member hilto...</td>\n      <td>ok nothing special charge diamond member hilto...</td>\n      <td>[ok, nothing, special, charge, diamond, member...</td>\n      <td>[ok, nothing, special, charge, diamond, member...</td>\n      <td>[(ok, nothing), (nothing, special), (special, ...</td>\n    </tr>\n    <tr>\n      <th>2</th>\n      <td>nice rooms not 4* experience hotel monaco seat...</td>\n      <td>nice rooms not  experience hotel monaco seattl...</td>\n      <td>[nice, room, not, experience, hotel, monaco, s...</td>\n      <td>[nice, room, experience, hotel, monaco, seattl...</td>\n      <td>[(nice, room), (room, experience), (experience...</td>\n    </tr>\n    <tr>\n      <th>3</th>\n      <td>unique, great stay, wonderful time hotel monac...</td>\n      <td>unique great stay wonderful time hotel monaco ...</td>\n      <td>[unique, great, stay, wonderful, time, hotel, ...</td>\n      <td>[unique, great, stay, wonderful, time, hotel, ...</td>\n      <td>[(unique, great), (great, stay), (stay, wonder...</td>\n    </tr>\n    <tr>\n      <th>4</th>\n      <td>great stay great stay, went seahawk game aweso...</td>\n      <td>great stay great stay went seahawk game awesom...</td>\n      <td>[great, stay, great, stay, went, seahawk, game...</td>\n      <td>[great, stay, great, stay, went, seahawk, game...</td>\n      <td>[(great, stay), (stay, great), (great, stay), ...</td>\n    </tr>\n    <tr>\n      <th>...</th>\n      <td>...</td>\n      <td>...</td>\n      <td>...</td>\n      <td>...</td>\n      <td>...</td>\n    </tr>\n    <tr>\n      <th>20486</th>\n      <td>best kept secret 3rd time staying charm, not 5...</td>\n      <td>best kept secret rd time staying charm not sta...</td>\n      <td>[best, kept, secret, rd, time, staying, charm,...</td>\n      <td>[best, kept, secret, rd, time, staying, charm,...</td>\n      <td>[(best, kept), (kept, secret), (secret, rd), (...</td>\n    </tr>\n    <tr>\n      <th>20487</th>\n      <td>great location price view hotel great quick pl...</td>\n      <td>great location price view hotel great quick pl...</td>\n      <td>[great, location, price, view, hotel, great, q...</td>\n      <td>[great, location, price, view, hotel, great, q...</td>\n      <td>[(great, location), (location, price), (price,...</td>\n    </tr>\n    <tr>\n      <th>20488</th>\n      <td>ok just looks nice modern outside, desk staff ...</td>\n      <td>ok just looks nice modern outside desk staff n...</td>\n      <td>[ok, just, look, nice, modern, outside, desk, ...</td>\n      <td>[ok, look, nice, modern, outside, desk, staff,...</td>\n      <td>[(ok, look), (look, nice), (nice, modern), (mo...</td>\n    </tr>\n    <tr>\n      <th>20489</th>\n      <td>hotel theft ruined vacation hotel opened sept ...</td>\n      <td>hotel theft ruined vacation hotel opened sept ...</td>\n      <td>[hotel, theft, ruined, vacation, hotel, opened...</td>\n      <td>[hotel, theft, ruined, vacation, hotel, opened...</td>\n      <td>[(hotel, theft), (theft, ruined), (ruined, vac...</td>\n    </tr>\n    <tr>\n      <th>20490</th>\n      <td>people talking, ca n't believe excellent ratin...</td>\n      <td>people talking ca nt believe excellent ratings...</td>\n      <td>[people, talking, ca, nt, believe, excellent, ...</td>\n      <td>[people, talking, ca, nt, believe, excellent, ...</td>\n      <td>[(people, talking), (talking, ca), (ca, nt), (...</td>\n    </tr>\n  </tbody>\n</table>\n<p>20491 rows × 5 columns</p>\n</div>"
     },
     "execution_count": 12,
     "metadata": {},
     "output_type": "execute_result"
    }
   ],
   "source": [
    "# Displaying processed data\n",
    "reviews[['Review', 'Review_processed', 'Review_lemmatized', 'Review_stopwords', 'Review_bigrams']]"
   ],
   "metadata": {
    "collapsed": false,
    "pycharm": {
     "name": "#%%\n"
    }
   }
  },
  {
   "cell_type": "code",
   "execution_count": 13,
   "outputs": [],
   "source": [
    "# Saving processed data\n",
    "reviews.to_csv('./data/reviews_clean.csv', index=False)"
   ],
   "metadata": {
    "collapsed": false,
    "pycharm": {
     "name": "#%%\n"
    }
   }
  }
 ],
 "metadata": {
  "kernelspec": {
   "display_name": "Python 3",
   "language": "python",
   "name": "python3"
  },
  "language_info": {
   "codemirror_mode": {
    "name": "ipython",
    "version": 2
   },
   "file_extension": ".py",
   "mimetype": "text/x-python",
   "name": "python",
   "nbconvert_exporter": "python",
   "pygments_lexer": "ipython2",
   "version": "2.7.6"
  }
 },
 "nbformat": 4,
 "nbformat_minor": 0
}