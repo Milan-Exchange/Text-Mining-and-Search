{
 "cells": [
  {
   "cell_type": "code",
   "execution_count": 337,
   "id": "81563893",
   "metadata": {},
   "outputs": [],
   "source": [
    "import string\n",
    "import numpy as np\n",
    "import pandas as pd\n",
    "import tensorflow as tf\n",
    "import seaborn as sn\n",
    "import matplotlib.pyplot as plt\n",
    "from collections import Counter\n",
    "\n",
    "# doc2vec tool\n",
    "import gensim\n",
    "from gensim.models import doc2vec\n",
    "\n",
    "# sklearn classification \n",
    "from sklearn.model_selection import train_test_split\n",
    "from sklearn.metrics import accuracy_score, confusion_matrix\n",
    "from sklearn.neighbors import KNeighborsClassifier\n",
    "from sklearn.svm import SVC\n",
    "from sklearn.ensemble import RandomForestClassifier"
   ]
  },
  {
   "attachments": {},
   "cell_type": "markdown",
   "id": "cd6b0b8c",
   "metadata": {},
   "source": [
    "# Prepraring for classifiaction"
   ]
  },
  {
   "attachments": {},
   "cell_type": "markdown",
   "id": "36ea29f1",
   "metadata": {},
   "source": [
    "## Computing new cells"
   ]
  },
  {
   "cell_type": "code",
   "execution_count": 2,
   "id": "4f84724e",
   "metadata": {},
   "outputs": [],
   "source": [
    "# loading data\n",
    "reviews_df = pd.read_csv('./data/reviews_clean.csv',\n",
    "                        converters={'Review_lemmatized': pd.eval}) # just this used\n",
    "                        #converters={'Review_lemmatized': pd.eval, 'Review_stopwords': pd.eval, 'Review_bigrams': pd.eval})"
   ]
  },
  {
   "cell_type": "code",
   "execution_count": 3,
   "id": "8ab4a0a6",
   "metadata": {},
   "outputs": [
    {
     "data": {
      "text/html": [
       "<div>\n",
       "<style scoped>\n",
       "    .dataframe tbody tr th:only-of-type {\n",
       "        vertical-align: middle;\n",
       "    }\n",
       "\n",
       "    .dataframe tbody tr th {\n",
       "        vertical-align: top;\n",
       "    }\n",
       "\n",
       "    .dataframe thead th {\n",
       "        text-align: right;\n",
       "    }\n",
       "</style>\n",
       "<table border=\"1\" class=\"dataframe\">\n",
       "  <thead>\n",
       "    <tr style=\"text-align: right;\">\n",
       "      <th></th>\n",
       "      <th>Review</th>\n",
       "      <th>Rating</th>\n",
       "      <th>Review_processed</th>\n",
       "      <th>Review_lemmatized</th>\n",
       "      <th>Review_stopwords</th>\n",
       "      <th>Review_bigrams</th>\n",
       "    </tr>\n",
       "  </thead>\n",
       "  <tbody>\n",
       "    <tr>\n",
       "      <th>0</th>\n",
       "      <td>nice hotel expensive parking got good deal sta...</td>\n",
       "      <td>4</td>\n",
       "      <td>nice hotel expensive parking got good deal sta...</td>\n",
       "      <td>[nice, hotel, expensive, parking, got, good, d...</td>\n",
       "      <td>['nice', 'hotel', 'expensive', 'parking', 'got...</td>\n",
       "      <td>[('nice', 'hotel'), ('hotel', 'expensive'), ('...</td>\n",
       "    </tr>\n",
       "    <tr>\n",
       "      <th>1</th>\n",
       "      <td>ok nothing special charge diamond member hilto...</td>\n",
       "      <td>2</td>\n",
       "      <td>ok nothing special charge diamond member hilto...</td>\n",
       "      <td>[ok, nothing, special, charge, diamond, member...</td>\n",
       "      <td>['ok', 'nothing', 'special', 'charge', 'diamon...</td>\n",
       "      <td>[('ok', 'nothing'), ('nothing', 'special'), ('...</td>\n",
       "    </tr>\n",
       "    <tr>\n",
       "      <th>2</th>\n",
       "      <td>nice rooms not 4* experience hotel monaco seat...</td>\n",
       "      <td>3</td>\n",
       "      <td>nice rooms not  experience hotel monaco seattl...</td>\n",
       "      <td>[nice, room, not, experience, hotel, monaco, s...</td>\n",
       "      <td>['nice', 'room', 'experience', 'hotel', 'monac...</td>\n",
       "      <td>[('nice', 'room'), ('room', 'experience'), ('e...</td>\n",
       "    </tr>\n",
       "    <tr>\n",
       "      <th>3</th>\n",
       "      <td>unique, great stay, wonderful time hotel monac...</td>\n",
       "      <td>5</td>\n",
       "      <td>unique great stay wonderful time hotel monaco ...</td>\n",
       "      <td>[unique, great, stay, wonderful, time, hotel, ...</td>\n",
       "      <td>['unique', 'great', 'stay', 'wonderful', 'time...</td>\n",
       "      <td>[('unique', 'great'), ('great', 'stay'), ('sta...</td>\n",
       "    </tr>\n",
       "    <tr>\n",
       "      <th>4</th>\n",
       "      <td>great stay great stay, went seahawk game aweso...</td>\n",
       "      <td>5</td>\n",
       "      <td>great stay great stay went seahawk game awesom...</td>\n",
       "      <td>[great, stay, great, stay, went, seahawk, game...</td>\n",
       "      <td>['great', 'stay', 'great', 'stay', 'went', 'se...</td>\n",
       "      <td>[('great', 'stay'), ('stay', 'great'), ('great...</td>\n",
       "    </tr>\n",
       "    <tr>\n",
       "      <th>...</th>\n",
       "      <td>...</td>\n",
       "      <td>...</td>\n",
       "      <td>...</td>\n",
       "      <td>...</td>\n",
       "      <td>...</td>\n",
       "      <td>...</td>\n",
       "    </tr>\n",
       "    <tr>\n",
       "      <th>20486</th>\n",
       "      <td>best kept secret 3rd time staying charm, not 5...</td>\n",
       "      <td>5</td>\n",
       "      <td>best kept secret rd time staying charm not sta...</td>\n",
       "      <td>[best, kept, secret, rd, time, staying, charm,...</td>\n",
       "      <td>['best', 'kept', 'secret', 'rd', 'time', 'stay...</td>\n",
       "      <td>[('best', 'kept'), ('kept', 'secret'), ('secre...</td>\n",
       "    </tr>\n",
       "    <tr>\n",
       "      <th>20487</th>\n",
       "      <td>great location price view hotel great quick pl...</td>\n",
       "      <td>4</td>\n",
       "      <td>great location price view hotel great quick pl...</td>\n",
       "      <td>[great, location, price, view, hotel, great, q...</td>\n",
       "      <td>['great', 'location', 'price', 'view', 'hotel'...</td>\n",
       "      <td>[('great', 'location'), ('location', 'price'),...</td>\n",
       "    </tr>\n",
       "    <tr>\n",
       "      <th>20488</th>\n",
       "      <td>ok just looks nice modern outside, desk staff ...</td>\n",
       "      <td>2</td>\n",
       "      <td>ok just looks nice modern outside desk staff n...</td>\n",
       "      <td>[ok, just, look, nice, modern, outside, desk, ...</td>\n",
       "      <td>['ok', 'look', 'nice', 'modern', 'outside', 'd...</td>\n",
       "      <td>[('ok', 'look'), ('look', 'nice'), ('nice', 'm...</td>\n",
       "    </tr>\n",
       "    <tr>\n",
       "      <th>20489</th>\n",
       "      <td>hotel theft ruined vacation hotel opened sept ...</td>\n",
       "      <td>1</td>\n",
       "      <td>hotel theft ruined vacation hotel opened sept ...</td>\n",
       "      <td>[hotel, theft, ruined, vacation, hotel, opened...</td>\n",
       "      <td>['hotel', 'theft', 'ruined', 'vacation', 'hote...</td>\n",
       "      <td>[('hotel', 'theft'), ('theft', 'ruined'), ('ru...</td>\n",
       "    </tr>\n",
       "    <tr>\n",
       "      <th>20490</th>\n",
       "      <td>people talking, ca n't believe excellent ratin...</td>\n",
       "      <td>2</td>\n",
       "      <td>people talking ca nt believe excellent ratings...</td>\n",
       "      <td>[people, talking, ca, nt, believe, excellent, ...</td>\n",
       "      <td>['people', 'talking', 'ca', 'nt', 'believe', '...</td>\n",
       "      <td>[('people', 'talking'), ('talking', 'ca'), ('c...</td>\n",
       "    </tr>\n",
       "  </tbody>\n",
       "</table>\n",
       "<p>20491 rows × 6 columns</p>\n",
       "</div>"
      ],
      "text/plain": [
       "                                                  Review  Rating  \\\n",
       "0      nice hotel expensive parking got good deal sta...       4   \n",
       "1      ok nothing special charge diamond member hilto...       2   \n",
       "2      nice rooms not 4* experience hotel monaco seat...       3   \n",
       "3      unique, great stay, wonderful time hotel monac...       5   \n",
       "4      great stay great stay, went seahawk game aweso...       5   \n",
       "...                                                  ...     ...   \n",
       "20486  best kept secret 3rd time staying charm, not 5...       5   \n",
       "20487  great location price view hotel great quick pl...       4   \n",
       "20488  ok just looks nice modern outside, desk staff ...       2   \n",
       "20489  hotel theft ruined vacation hotel opened sept ...       1   \n",
       "20490  people talking, ca n't believe excellent ratin...       2   \n",
       "\n",
       "                                        Review_processed  \\\n",
       "0      nice hotel expensive parking got good deal sta...   \n",
       "1      ok nothing special charge diamond member hilto...   \n",
       "2      nice rooms not  experience hotel monaco seattl...   \n",
       "3      unique great stay wonderful time hotel monaco ...   \n",
       "4      great stay great stay went seahawk game awesom...   \n",
       "...                                                  ...   \n",
       "20486  best kept secret rd time staying charm not sta...   \n",
       "20487  great location price view hotel great quick pl...   \n",
       "20488  ok just looks nice modern outside desk staff n...   \n",
       "20489  hotel theft ruined vacation hotel opened sept ...   \n",
       "20490  people talking ca nt believe excellent ratings...   \n",
       "\n",
       "                                       Review_lemmatized  \\\n",
       "0      [nice, hotel, expensive, parking, got, good, d...   \n",
       "1      [ok, nothing, special, charge, diamond, member...   \n",
       "2      [nice, room, not, experience, hotel, monaco, s...   \n",
       "3      [unique, great, stay, wonderful, time, hotel, ...   \n",
       "4      [great, stay, great, stay, went, seahawk, game...   \n",
       "...                                                  ...   \n",
       "20486  [best, kept, secret, rd, time, staying, charm,...   \n",
       "20487  [great, location, price, view, hotel, great, q...   \n",
       "20488  [ok, just, look, nice, modern, outside, desk, ...   \n",
       "20489  [hotel, theft, ruined, vacation, hotel, opened...   \n",
       "20490  [people, talking, ca, nt, believe, excellent, ...   \n",
       "\n",
       "                                        Review_stopwords  \\\n",
       "0      ['nice', 'hotel', 'expensive', 'parking', 'got...   \n",
       "1      ['ok', 'nothing', 'special', 'charge', 'diamon...   \n",
       "2      ['nice', 'room', 'experience', 'hotel', 'monac...   \n",
       "3      ['unique', 'great', 'stay', 'wonderful', 'time...   \n",
       "4      ['great', 'stay', 'great', 'stay', 'went', 'se...   \n",
       "...                                                  ...   \n",
       "20486  ['best', 'kept', 'secret', 'rd', 'time', 'stay...   \n",
       "20487  ['great', 'location', 'price', 'view', 'hotel'...   \n",
       "20488  ['ok', 'look', 'nice', 'modern', 'outside', 'd...   \n",
       "20489  ['hotel', 'theft', 'ruined', 'vacation', 'hote...   \n",
       "20490  ['people', 'talking', 'ca', 'nt', 'believe', '...   \n",
       "\n",
       "                                          Review_bigrams  \n",
       "0      [('nice', 'hotel'), ('hotel', 'expensive'), ('...  \n",
       "1      [('ok', 'nothing'), ('nothing', 'special'), ('...  \n",
       "2      [('nice', 'room'), ('room', 'experience'), ('e...  \n",
       "3      [('unique', 'great'), ('great', 'stay'), ('sta...  \n",
       "4      [('great', 'stay'), ('stay', 'great'), ('great...  \n",
       "...                                                  ...  \n",
       "20486  [('best', 'kept'), ('kept', 'secret'), ('secre...  \n",
       "20487  [('great', 'location'), ('location', 'price'),...  \n",
       "20488  [('ok', 'look'), ('look', 'nice'), ('nice', 'm...  \n",
       "20489  [('hotel', 'theft'), ('theft', 'ruined'), ('ru...  \n",
       "20490  [('people', 'talking'), ('talking', 'ca'), ('c...  \n",
       "\n",
       "[20491 rows x 6 columns]"
      ]
     },
     "execution_count": 3,
     "metadata": {},
     "output_type": "execute_result"
    }
   ],
   "source": [
    "reviews_df"
   ]
  },
  {
   "cell_type": "code",
   "execution_count": 4,
   "id": "e58745c4",
   "metadata": {},
   "outputs": [],
   "source": [
    "reviews_df['words_number'] = reviews_df.Review_lemmatized.apply(lambda x: len(x))"
   ]
  },
  {
   "cell_type": "code",
   "execution_count": 101,
   "id": "f42e04ce",
   "metadata": {},
   "outputs": [],
   "source": [
    "reviews_df['commas'] = reviews_df.Review.apply(lambda review_text: review_text.count(','))"
   ]
  },
  {
   "cell_type": "code",
   "execution_count": 111,
   "id": "65af1895",
   "metadata": {},
   "outputs": [],
   "source": [
    "# computing average length of a sentence\n",
    "# there are no '.' so I use ','\n",
    "# not sure if it should be used since there are no stopwors\n",
    "# it also has a bug :D, it counts spaces and there is always an extra one \n",
    "reviews_df['average_length'] = reviews_df.Review.apply(lambda review_text: np.mean([len(sentence.split(' ')) for sentence in review_text.split(',')]))"
   ]
  },
  {
   "cell_type": "code",
   "execution_count": 5,
   "id": "85ce04bd",
   "metadata": {},
   "outputs": [
    {
     "data": {
      "text/plain": [
       "2092254"
      ]
     },
     "execution_count": 5,
     "metadata": {},
     "output_type": "execute_result"
    }
   ],
   "source": [
    "# TODO: optimize\n",
    "all_words = []\n",
    "\n",
    "for rev in reviews_df.Review_lemmatized:\n",
    "    all_words.extend(rev)\n",
    "    \n",
    "len(all_words)"
   ]
  },
  {
   "cell_type": "code",
   "execution_count": 6,
   "id": "13b9da83",
   "metadata": {},
   "outputs": [],
   "source": [
    "word_occurence_number = pd.DataFrame.from_dict(Counter(all_words), orient='index')"
   ]
  },
  {
   "cell_type": "code",
   "execution_count": 8,
   "id": "20357e3d",
   "metadata": {},
   "outputs": [
    {
     "data": {
      "text/plain": [
       "<AxesSubplot: >"
      ]
     },
     "execution_count": 8,
     "metadata": {},
     "output_type": "execute_result"
    },
    {
     "data": {
      "image/png": "[encoded data removed]",
      "text/plain": [
       "<Figure size 1500x500 with 1 Axes>"
      ]
     },
     "metadata": {},
     "output_type": "display_data"
    }
   ],
   "source": [
    "word_occurence_number.sort_values(by=0).iloc[-20:].plot(kind='bar', figsize=(15, 5))"
   ]
  },
  {
   "cell_type": "code",
   "execution_count": 9,
   "id": "10386fdd",
   "metadata": {},
   "outputs": [
    {
     "data": {
      "text/html": [
       "<div>\n",
       "<style scoped>\n",
       "    .dataframe tbody tr th:only-of-type {\n",
       "        vertical-align: middle;\n",
       "    }\n",
       "\n",
       "    .dataframe tbody tr th {\n",
       "        vertical-align: top;\n",
       "    }\n",
       "\n",
       "    .dataframe thead th {\n",
       "        text-align: right;\n",
       "    }\n",
       "</style>\n",
       "<table border=\"1\" class=\"dataframe\">\n",
       "  <thead>\n",
       "    <tr style=\"text-align: right;\">\n",
       "      <th></th>\n",
       "      <th>0</th>\n",
       "    </tr>\n",
       "  </thead>\n",
       "  <tbody>\n",
       "    <tr>\n",
       "      <th>count</th>\n",
       "      <td>71900.000000</td>\n",
       "    </tr>\n",
       "    <tr>\n",
       "      <th>mean</th>\n",
       "      <td>29.099499</td>\n",
       "    </tr>\n",
       "    <tr>\n",
       "      <th>std</th>\n",
       "      <td>414.316660</td>\n",
       "    </tr>\n",
       "    <tr>\n",
       "      <th>min</th>\n",
       "      <td>1.000000</td>\n",
       "    </tr>\n",
       "    <tr>\n",
       "      <th>25%</th>\n",
       "      <td>1.000000</td>\n",
       "    </tr>\n",
       "    <tr>\n",
       "      <th>50%</th>\n",
       "      <td>1.000000</td>\n",
       "    </tr>\n",
       "    <tr>\n",
       "      <th>75%</th>\n",
       "      <td>3.000000</td>\n",
       "    </tr>\n",
       "    <tr>\n",
       "      <th>max</th>\n",
       "      <td>52901.000000</td>\n",
       "    </tr>\n",
       "  </tbody>\n",
       "</table>\n",
       "</div>"
      ],
      "text/plain": [
       "                  0\n",
       "count  71900.000000\n",
       "mean      29.099499\n",
       "std      414.316660\n",
       "min        1.000000\n",
       "25%        1.000000\n",
       "50%        1.000000\n",
       "75%        3.000000\n",
       "max    52901.000000"
      ]
     },
     "execution_count": 9,
     "metadata": {},
     "output_type": "execute_result"
    }
   ],
   "source": [
    "word_occurence_number.describe()"
   ]
  },
  {
   "cell_type": "code",
   "execution_count": 10,
   "id": "6c7dc2ea",
   "metadata": {},
   "outputs": [
    {
     "data": {
      "text/plain": [
       "102.105997755112"
      ]
     },
     "execution_count": 10,
     "metadata": {},
     "output_type": "execute_result"
    }
   ],
   "source": [
    "np.mean(reviews_df.words_number)"
   ]
  },
  {
   "attachments": {},
   "cell_type": "markdown",
   "id": "c7e6d05e",
   "metadata": {},
   "source": [
    "## Dov2vec"
   ]
  },
  {
   "cell_type": "code",
   "execution_count": 74,
   "id": "45259003",
   "metadata": {},
   "outputs": [],
   "source": [
    "# increased to obtain better performce\n",
    "n_epochs = 32\n",
    "# the 75% value\n",
    "# maybe it is even to high, gonna just after performence\n",
    "# but this will include around 25 % of the occuring words\n",
    "min_count = 5\n",
    "# there are no stop words so the window should not be to big\n",
    "window_size = 2\n",
    "# first try\n",
    "vector_size = 32"
   ]
  },
  {
   "cell_type": "code",
   "execution_count": 75,
   "id": "d1ef25d6",
   "metadata": {},
   "outputs": [],
   "source": [
    "tagged_words = [doc2vec.TaggedDocument(words=review, tags=[str(i)]) for i, review in enumerate(reviews_df.Review_lemmatized)]"
   ]
  },
  {
   "cell_type": "code",
   "execution_count": 76,
   "id": "bfe31836",
   "metadata": {},
   "outputs": [],
   "source": [
    "doc2vec_model = doc2vec.Doc2Vec(vector_size=vector_size, min_count=min_count, epochs=n_epochs, window=window_size)\n",
    "doc2vec_model.build_vocab(tagged_words)\n",
    "doc2vec_model.train(tagged_words, total_examples=doc2vec_model.corpus_count, epochs=n_epochs)\n",
    "doc2vec_model.save(\"doc2vec-vec32-window2.model\")"
   ]
  },
  {
   "attachments": {},
   "cell_type": "markdown",
   "id": "c2683197",
   "metadata": {},
   "source": [
    "### Trying to verify if the doc2vec embedding worked out"
   ]
  },
  {
   "cell_type": "code",
   "execution_count": 294,
   "id": "cec8ab3f",
   "metadata": {},
   "outputs": [
    {
     "data": {
      "text/plain": [
       "[('13272', 0.780900776386261),\n",
       " ('12389', 0.7765012979507446),\n",
       " ('13640', 0.7651512026786804),\n",
       " ('3487', 0.7509444355964661),\n",
       " ('13029', 0.7467101216316223),\n",
       " ('15824', 0.7461361289024353),\n",
       " ('11485', 0.7454383373260498),\n",
       " ('20222', 0.742376983165741),\n",
       " ('2127', 0.7350260615348816),\n",
       " ('10388', 0.7345801591873169)]"
      ]
     },
     "execution_count": 294,
     "metadata": {},
     "output_type": "execute_result"
    }
   ],
   "source": [
    "doc2vec_model.dv.most_similar(['12823'])"
   ]
  },
  {
   "cell_type": "code",
   "execution_count": 442,
   "id": "21179773",
   "metadata": {},
   "outputs": [
    {
     "data": {
      "text/plain": [
       "\"cool, mean, place cool, mean cool degenerate la wannabe kind way, rooms poorly lit pretentiously decorated electrical outlets hard hey needs electricity, sorry n't need shower bedroom, redeeming factor bed comfortable, not recommend hotel middle-aged business travelers,  \""
      ]
     },
     "execution_count": 442,
     "metadata": {},
     "output_type": "execute_result"
    }
   ],
   "source": [
    "reviews_df.Review.iloc[19252]"
   ]
  },
  {
   "cell_type": "code",
   "execution_count": 410,
   "id": "5edd4b78",
   "metadata": {},
   "outputs": [],
   "source": [
    "vector_good = doc2vec_model.infer_vector('Nice open space area. Comfy and relaxing atmosphere. People very cheerful'.split())\n",
    "vector_bad = doc2vec_model.infer_vector('Discousting food and a lot time to wait for service'.split())\n",
    "vector_neutral = doc2vec_model.infer_vector('Very nice hotel in bad neighbourhood'.split())"
   ]
  },
  {
   "cell_type": "code",
   "execution_count": 441,
   "id": "2bad0057",
   "metadata": {},
   "outputs": [
    {
     "data": {
      "text/plain": [
       "[('19252', 0.6895096302032471),\n",
       " ('17592', 0.6786773204803467),\n",
       " ('14480', 0.6715874671936035),\n",
       " ('12697', 0.6688364148139954),\n",
       " ('14596', 0.6615757942199707),\n",
       " ('12442', 0.6577968597412109),\n",
       " ('142', 0.6547802090644836),\n",
       " ('14058', 0.6516783833503723),\n",
       " ('1801', 0.6503904461860657),\n",
       " ('9418', 0.6413642168045044)]"
      ]
     },
     "execution_count": 441,
     "metadata": {},
     "output_type": "execute_result"
    }
   ],
   "source": [
    "doc2vec_model.dv.most_similar(vector_neutral)"
   ]
  },
  {
   "cell_type": "code",
   "execution_count": 287,
   "id": "a4db05f0",
   "metadata": {},
   "outputs": [
    {
     "data": {
      "text/html": [
       "<div>\n",
       "<style scoped>\n",
       "    .dataframe tbody tr th:only-of-type {\n",
       "        vertical-align: middle;\n",
       "    }\n",
       "\n",
       "    .dataframe tbody tr th {\n",
       "        vertical-align: top;\n",
       "    }\n",
       "\n",
       "    .dataframe thead th {\n",
       "        text-align: right;\n",
       "    }\n",
       "</style>\n",
       "<table border=\"1\" class=\"dataframe\">\n",
       "  <thead>\n",
       "    <tr style=\"text-align: right;\">\n",
       "      <th></th>\n",
       "      <th>Review</th>\n",
       "      <th>Rating</th>\n",
       "      <th>Review_processed</th>\n",
       "      <th>Review_lemmatized</th>\n",
       "      <th>Review_stopwords</th>\n",
       "      <th>Review_bigrams</th>\n",
       "      <th>words_number</th>\n",
       "      <th>doc2vec</th>\n",
       "      <th>commas</th>\n",
       "      <th>average_length</th>\n",
       "    </tr>\n",
       "  </thead>\n",
       "  <tbody>\n",
       "    <tr>\n",
       "      <th>1501</th>\n",
       "      <td>loved resort amazing space lot, not bored,</td>\n",
       "      <td>5</td>\n",
       "      <td>loved resort amazing space lot not bored</td>\n",
       "      <td>[loved, resort, amazing, space, lot, not, bored]</td>\n",
       "      <td>['loved', 'resort', 'amazing', 'space', 'lot',...</td>\n",
       "      <td>[('loved', 'resort'), ('resort', 'amazing'), (...</td>\n",
       "      <td>7</td>\n",
       "      <td>[-0.05655341, -0.46871337, 0.5748389, 0.296093...</td>\n",
       "      <td>2</td>\n",
       "      <td>3.666667</td>\n",
       "    </tr>\n",
       "    <tr>\n",
       "      <th>12823</th>\n",
       "      <td>hotel 9 10. hotel beach 7 10. beautiful sunset...</td>\n",
       "      <td>3</td>\n",
       "      <td>hotel   hotel beach   beautiful sunsets small ...</td>\n",
       "      <td>[hotel, hotel, beach, beautiful, sunset, small...</td>\n",
       "      <td>['hotel', 'hotel', 'beach', 'beautiful', 'suns...</td>\n",
       "      <td>[('hotel', 'hotel'), ('hotel', 'beach'), ('bea...</td>\n",
       "      <td>8</td>\n",
       "      <td>[0.15299292, -0.6659722, 0.023337735, 0.116902...</td>\n",
       "      <td>1</td>\n",
       "      <td>7.500000</td>\n",
       "    </tr>\n",
       "    <tr>\n",
       "      <th>488</th>\n",
       "      <td>issues n't say 4 star service great pool bar,</td>\n",
       "      <td>3</td>\n",
       "      <td>issues nt say  star service great pool bar</td>\n",
       "      <td>[issue, nt, say, star, service, great, pool, bar]</td>\n",
       "      <td>['issue', 'nt', 'say', 'star', 'service', 'gre...</td>\n",
       "      <td>[('issue', 'nt'), ('nt', 'say'), ('say', 'star...</td>\n",
       "      <td>8</td>\n",
       "      <td>[-0.042760886, -0.6807799, 0.22831817, 0.29165...</td>\n",
       "      <td>1</td>\n",
       "      <td>6.000000</td>\n",
       "    </tr>\n",
       "    <tr>\n",
       "      <th>18073</th>\n",
       "      <td>nice hotel view second room room left row,</td>\n",
       "      <td>5</td>\n",
       "      <td>nice hotel view second room room left row</td>\n",
       "      <td>[nice, hotel, view, second, room, room, left, ...</td>\n",
       "      <td>['nice', 'hotel', 'view', 'second', 'room', 'r...</td>\n",
       "      <td>[('nice', 'hotel'), ('hotel', 'view'), ('view'...</td>\n",
       "      <td>8</td>\n",
       "      <td>[0.42589733, -0.60885185, 0.13760035, -0.24760...</td>\n",
       "      <td>1</td>\n",
       "      <td>5.500000</td>\n",
       "    </tr>\n",
       "    <tr>\n",
       "      <th>10446</th>\n",
       "      <td>glad stayed great experience stay time steps p...</td>\n",
       "      <td>4</td>\n",
       "      <td>glad stayed great experience stay time steps p...</td>\n",
       "      <td>[glad, stayed, great, experience, stay, time, ...</td>\n",
       "      <td>['glad', 'stayed', 'great', 'experience', 'sta...</td>\n",
       "      <td>[('glad', 'stayed'), ('stayed', 'great'), ('gr...</td>\n",
       "      <td>9</td>\n",
       "      <td>[-0.6950405, -0.17748098, 0.014431554, 0.32570...</td>\n",
       "      <td>1</td>\n",
       "      <td>6.000000</td>\n",
       "    </tr>\n",
       "    <tr>\n",
       "      <th>4524</th>\n",
       "      <td>feeling cheated, westin signature comfy bed wi...</td>\n",
       "      <td>4</td>\n",
       "      <td>feeling cheated westin signature comfy bed wil...</td>\n",
       "      <td>[feeling, cheated, westin, signature, comfy, b...</td>\n",
       "      <td>['feeling', 'cheated', 'westin', 'signature', ...</td>\n",
       "      <td>[('feeling', 'cheated'), ('cheated', 'westin')...</td>\n",
       "      <td>9</td>\n",
       "      <td>[0.4769751, -0.18838228, -0.47055966, 0.230789...</td>\n",
       "      <td>2</td>\n",
       "      <td>4.333333</td>\n",
       "    </tr>\n",
       "    <tr>\n",
       "      <th>16736</th>\n",
       "      <td>clean hotel attentive welcoming staff infinity...</td>\n",
       "      <td>4</td>\n",
       "      <td>clean hotel attentive welcoming staff infinity...</td>\n",
       "      <td>[clean, hotel, attentive, welcoming, staff, in...</td>\n",
       "      <td>['clean', 'hotel', 'attentive', 'welcoming', '...</td>\n",
       "      <td>[('clean', 'hotel'), ('hotel', 'attentive'), (...</td>\n",
       "      <td>9</td>\n",
       "      <td>[0.15689844, -0.6512132, -0.20395358, -0.21149...</td>\n",
       "      <td>1</td>\n",
       "      <td>6.000000</td>\n",
       "    </tr>\n",
       "    <tr>\n",
       "      <th>16969</th>\n",
       "      <td>number hotel number ranking, perfect way, best...</td>\n",
       "      <td>5</td>\n",
       "      <td>number hotel number ranking perfect way best b...</td>\n",
       "      <td>[number, hotel, number, ranking, perfect, way,...</td>\n",
       "      <td>['number', 'hotel', 'number', 'ranking', 'perf...</td>\n",
       "      <td>[('number', 'hotel'), ('hotel', 'number'), ('n...</td>\n",
       "      <td>9</td>\n",
       "      <td>[0.043602712, -0.559723, 0.3431994, -0.1500593...</td>\n",
       "      <td>3</td>\n",
       "      <td>3.500000</td>\n",
       "    </tr>\n",
       "    <tr>\n",
       "      <th>13994</th>\n",
       "      <td>decent place stay price bed right bathroom max...</td>\n",
       "      <td>3</td>\n",
       "      <td>decent place stay price bed right bathroom max...</td>\n",
       "      <td>[decent, place, stay, price, bed, right, bathr...</td>\n",
       "      <td>['decent', 'place', 'stay', 'price', 'bed', 'r...</td>\n",
       "      <td>[('decent', 'place'), ('place', 'stay'), ('sta...</td>\n",
       "      <td>9</td>\n",
       "      <td>[-0.48660415, -0.68964833, -0.35068944, -0.277...</td>\n",
       "      <td>1</td>\n",
       "      <td>6.000000</td>\n",
       "    </tr>\n",
       "    <tr>\n",
       "      <th>8043</th>\n",
       "      <td>attitude love space receptionist rude abrupt, ...</td>\n",
       "      <td>2</td>\n",
       "      <td>attitude love space receptionist rude abrupt s...</td>\n",
       "      <td>[attitude, love, space, receptionist, rude, ab...</td>\n",
       "      <td>['attitude', 'love', 'space', 'receptionist', ...</td>\n",
       "      <td>[('attitude', 'love'), ('love', 'space'), ('sp...</td>\n",
       "      <td>10</td>\n",
       "      <td>[-0.23012352, 0.3562232, 0.16891563, 0.1396500...</td>\n",
       "      <td>2</td>\n",
       "      <td>4.666667</td>\n",
       "    </tr>\n",
       "  </tbody>\n",
       "</table>\n",
       "</div>"
      ],
      "text/plain": [
       "                                                  Review  Rating  \\\n",
       "1501        loved resort amazing space lot, not bored,         5   \n",
       "12823  hotel 9 10. hotel beach 7 10. beautiful sunset...       3   \n",
       "488      issues n't say 4 star service great pool bar,         3   \n",
       "18073       nice hotel view second room room left row,         5   \n",
       "10446  glad stayed great experience stay time steps p...       4   \n",
       "4524   feeling cheated, westin signature comfy bed wi...       4   \n",
       "16736  clean hotel attentive welcoming staff infinity...       4   \n",
       "16969  number hotel number ranking, perfect way, best...       5   \n",
       "13994  decent place stay price bed right bathroom max...       3   \n",
       "8043   attitude love space receptionist rude abrupt, ...       2   \n",
       "\n",
       "                                        Review_processed  \\\n",
       "1501           loved resort amazing space lot not bored    \n",
       "12823  hotel   hotel beach   beautiful sunsets small ...   \n",
       "488          issues nt say  star service great pool bar    \n",
       "18073         nice hotel view second room room left row    \n",
       "10446  glad stayed great experience stay time steps p...   \n",
       "4524   feeling cheated westin signature comfy bed wil...   \n",
       "16736  clean hotel attentive welcoming staff infinity...   \n",
       "16969  number hotel number ranking perfect way best b...   \n",
       "13994  decent place stay price bed right bathroom max...   \n",
       "8043   attitude love space receptionist rude abrupt s...   \n",
       "\n",
       "                                       Review_lemmatized  \\\n",
       "1501    [loved, resort, amazing, space, lot, not, bored]   \n",
       "12823  [hotel, hotel, beach, beautiful, sunset, small...   \n",
       "488    [issue, nt, say, star, service, great, pool, bar]   \n",
       "18073  [nice, hotel, view, second, room, room, left, ...   \n",
       "10446  [glad, stayed, great, experience, stay, time, ...   \n",
       "4524   [feeling, cheated, westin, signature, comfy, b...   \n",
       "16736  [clean, hotel, attentive, welcoming, staff, in...   \n",
       "16969  [number, hotel, number, ranking, perfect, way,...   \n",
       "13994  [decent, place, stay, price, bed, right, bathr...   \n",
       "8043   [attitude, love, space, receptionist, rude, ab...   \n",
       "\n",
       "                                        Review_stopwords  \\\n",
       "1501   ['loved', 'resort', 'amazing', 'space', 'lot',...   \n",
       "12823  ['hotel', 'hotel', 'beach', 'beautiful', 'suns...   \n",
       "488    ['issue', 'nt', 'say', 'star', 'service', 'gre...   \n",
       "18073  ['nice', 'hotel', 'view', 'second', 'room', 'r...   \n",
       "10446  ['glad', 'stayed', 'great', 'experience', 'sta...   \n",
       "4524   ['feeling', 'cheated', 'westin', 'signature', ...   \n",
       "16736  ['clean', 'hotel', 'attentive', 'welcoming', '...   \n",
       "16969  ['number', 'hotel', 'number', 'ranking', 'perf...   \n",
       "13994  ['decent', 'place', 'stay', 'price', 'bed', 'r...   \n",
       "8043   ['attitude', 'love', 'space', 'receptionist', ...   \n",
       "\n",
       "                                          Review_bigrams  words_number  \\\n",
       "1501   [('loved', 'resort'), ('resort', 'amazing'), (...             7   \n",
       "12823  [('hotel', 'hotel'), ('hotel', 'beach'), ('bea...             8   \n",
       "488    [('issue', 'nt'), ('nt', 'say'), ('say', 'star...             8   \n",
       "18073  [('nice', 'hotel'), ('hotel', 'view'), ('view'...             8   \n",
       "10446  [('glad', 'stayed'), ('stayed', 'great'), ('gr...             9   \n",
       "4524   [('feeling', 'cheated'), ('cheated', 'westin')...             9   \n",
       "16736  [('clean', 'hotel'), ('hotel', 'attentive'), (...             9   \n",
       "16969  [('number', 'hotel'), ('hotel', 'number'), ('n...             9   \n",
       "13994  [('decent', 'place'), ('place', 'stay'), ('sta...             9   \n",
       "8043   [('attitude', 'love'), ('love', 'space'), ('sp...            10   \n",
       "\n",
       "                                                 doc2vec  commas  \\\n",
       "1501   [-0.05655341, -0.46871337, 0.5748389, 0.296093...       2   \n",
       "12823  [0.15299292, -0.6659722, 0.023337735, 0.116902...       1   \n",
       "488    [-0.042760886, -0.6807799, 0.22831817, 0.29165...       1   \n",
       "18073  [0.42589733, -0.60885185, 0.13760035, -0.24760...       1   \n",
       "10446  [-0.6950405, -0.17748098, 0.014431554, 0.32570...       1   \n",
       "4524   [0.4769751, -0.18838228, -0.47055966, 0.230789...       2   \n",
       "16736  [0.15689844, -0.6512132, -0.20395358, -0.21149...       1   \n",
       "16969  [0.043602712, -0.559723, 0.3431994, -0.1500593...       3   \n",
       "13994  [-0.48660415, -0.68964833, -0.35068944, -0.277...       1   \n",
       "8043   [-0.23012352, 0.3562232, 0.16891563, 0.1396500...       2   \n",
       "\n",
       "       average_length  \n",
       "1501         3.666667  \n",
       "12823        7.500000  \n",
       "488          6.000000  \n",
       "18073        5.500000  \n",
       "10446        6.000000  \n",
       "4524         4.333333  \n",
       "16736        6.000000  \n",
       "16969        3.500000  \n",
       "13994        6.000000  \n",
       "8043         4.666667  "
      ]
     },
     "execution_count": 287,
     "metadata": {},
     "output_type": "execute_result"
    }
   ],
   "source": [
    "reviews_df.sort_values(by='words_number').iloc[:10]"
   ]
  },
  {
   "cell_type": "code",
   "execution_count": 209,
   "id": "5cf3904c",
   "metadata": {},
   "outputs": [],
   "source": [
    "reviews_df['doc2vec'] = reviews_df.Review_lemmatized.apply(lambda text_list: list(doc2vec_model.infer_vector(text_list)))"
   ]
  },
  {
   "cell_type": "code",
   "execution_count": 210,
   "id": "325e4e1c",
   "metadata": {},
   "outputs": [],
   "source": [
    "reviews_for_classification = reviews_df[['Review', 'Review_lemmatized', 'doc2vec', 'commas', 'words_number', 'average_length', 'Rating']]"
   ]
  },
  {
   "cell_type": "markdown",
   "id": "5f5531d2",
   "metadata": {},
   "source": [
    "### Saving as csv"
   ]
  },
  {
   "cell_type": "code",
   "execution_count": 211,
   "id": "9a6f9197",
   "metadata": {},
   "outputs": [],
   "source": [
    "reviews_for_classification.to_csv('./data/reviews_for_classifiaction.csv', index=False)"
   ]
  },
  {
   "cell_type": "markdown",
   "id": "830c5bb5",
   "metadata": {},
   "source": [
    "### Loading data"
   ]
  },
  {
   "cell_type": "code",
   "execution_count": 63,
   "id": "1989176b",
   "metadata": {},
   "outputs": [],
   "source": [
    "reviews_for_classification = pd.read_csv(\"reviews_for_classifiaction.csv\", \n",
    "                                        converters={'Review_lemmatized': pd.eval, 'doc2vec': pd.eval})"
   ]
  },
  {
   "cell_type": "markdown",
   "id": "633dc605",
   "metadata": {},
   "source": [
    "# Classifiaction"
   ]
  },
  {
   "attachments": {},
   "cell_type": "markdown",
   "id": "b49ed72b",
   "metadata": {},
   "source": [
    "## SVM Classifier"
   ]
  },
  {
   "attachments": {},
   "cell_type": "markdown",
   "id": "af64e816",
   "metadata": {},
   "source": [
    "### Classification just on the embedded document\n",
    "Viviani said on the lecture that while doing classification we should also consider the number of commas, average word length ans ect."
   ]
  },
  {
   "attachments": {},
   "cell_type": "markdown",
   "id": "e5318f48",
   "metadata": {},
   "source": [
    "#### Preparing training and test set"
   ]
  },
  {
   "cell_type": "code",
   "execution_count": 385,
   "id": "91ec58a4",
   "metadata": {},
   "outputs": [
    {
     "data": {
      "text/plain": [
       "True"
      ]
     },
     "execution_count": 385,
     "metadata": {},
     "output_type": "execute_result"
    }
   ],
   "source": [
    "# checking if everything is alrigth \n",
    "# to delete later\n",
    "len(reviews_for_classification.doc2vec.iloc[0]) == vector_size"
   ]
  },
  {
   "cell_type": "code",
   "execution_count": 386,
   "id": "8c9eccbe",
   "metadata": {},
   "outputs": [],
   "source": [
    "X_train, X_test, y_train, y_test = train_test_split(reviews_for_classification.doc2vec.to_list(), \n",
    "                                                    reviews_for_classification.Rating, \n",
    "                                                    test_size=0.1,\n",
    "                                                    random_state=42)"
   ]
  },
  {
   "cell_type": "code",
   "execution_count": 387,
   "id": "f8aa29ca",
   "metadata": {},
   "outputs": [
    {
     "data": {
      "text/plain": [
       "(18441, 18441, 2050, 2050)"
      ]
     },
     "execution_count": 387,
     "metadata": {},
     "output_type": "execute_result"
    }
   ],
   "source": [
    "len(X_train), len(y_train), len(X_test), len(y_test)"
   ]
  },
  {
   "cell_type": "code",
   "execution_count": 388,
   "id": "e45ee868",
   "metadata": {},
   "outputs": [
    {
     "data": {
      "text/html": [
       "<style>#sk-container-id-24 {color: black;background-color: white;}#sk-container-id-24 pre{padding: 0;}#sk-container-id-24 div.sk-toggleable {background-color: white;}#sk-container-id-24 label.sk-toggleable__label {cursor: pointer;display: block;width: 100%;margin-bottom: 0;padding: 0.3em;box-sizing: border-box;text-align: center;}#sk-container-id-24 label.sk-toggleable__label-arrow:before {content: \"▸\";float: left;margin-right: 0.25em;color: #696969;}#sk-container-id-24 label.sk-toggleable__label-arrow:hover:before {color: black;}#sk-container-id-24 div.sk-estimator:hover label.sk-toggleable__label-arrow:before {color: black;}#sk-container-id-24 div.sk-toggleable__content {max-height: 0;max-width: 0;overflow: hidden;text-align: left;background-color: #f0f8ff;}#sk-container-id-24 div.sk-toggleable__content pre {margin: 0.2em;color: black;border-radius: 0.25em;background-color: #f0f8ff;}#sk-container-id-24 input.sk-toggleable__control:checked~div.sk-toggleable__content {max-height: 200px;max-width: 100%;overflow: auto;}#sk-container-id-24 input.sk-toggleable__control:checked~label.sk-toggleable__label-arrow:before {content: \"▾\";}#sk-container-id-24 div.sk-estimator input.sk-toggleable__control:checked~label.sk-toggleable__label {background-color: #d4ebff;}#sk-container-id-24 div.sk-label input.sk-toggleable__control:checked~label.sk-toggleable__label {background-color: #d4ebff;}#sk-container-id-24 input.sk-hidden--visually {border: 0;clip: rect(1px 1px 1px 1px);clip: rect(1px, 1px, 1px, 1px);height: 1px;margin: -1px;overflow: hidden;padding: 0;position: absolute;width: 1px;}#sk-container-id-24 div.sk-estimator {font-family: monospace;background-color: #f0f8ff;border: 1px dotted black;border-radius: 0.25em;box-sizing: border-box;margin-bottom: 0.5em;}#sk-container-id-24 div.sk-estimator:hover {background-color: #d4ebff;}#sk-container-id-24 div.sk-parallel-item::after {content: \"\";width: 100%;border-bottom: 1px solid gray;flex-grow: 1;}#sk-container-id-24 div.sk-label:hover label.sk-toggleable__label {background-color: #d4ebff;}#sk-container-id-24 div.sk-serial::before {content: \"\";position: absolute;border-left: 1px solid gray;box-sizing: border-box;top: 0;bottom: 0;left: 50%;z-index: 0;}#sk-container-id-24 div.sk-serial {display: flex;flex-direction: column;align-items: center;background-color: white;padding-right: 0.2em;padding-left: 0.2em;position: relative;}#sk-container-id-24 div.sk-item {position: relative;z-index: 1;}#sk-container-id-24 div.sk-parallel {display: flex;align-items: stretch;justify-content: center;background-color: white;position: relative;}#sk-container-id-24 div.sk-item::before, #sk-container-id-24 div.sk-parallel-item::before {content: \"\";position: absolute;border-left: 1px solid gray;box-sizing: border-box;top: 0;bottom: 0;left: 50%;z-index: -1;}#sk-container-id-24 div.sk-parallel-item {display: flex;flex-direction: column;z-index: 1;position: relative;background-color: white;}#sk-container-id-24 div.sk-parallel-item:first-child::after {align-self: flex-end;width: 50%;}#sk-container-id-24 div.sk-parallel-item:last-child::after {align-self: flex-start;width: 50%;}#sk-container-id-24 div.sk-parallel-item:only-child::after {width: 0;}#sk-container-id-24 div.sk-dashed-wrapped {border: 1px dashed gray;margin: 0 0.4em 0.5em 0.4em;box-sizing: border-box;padding-bottom: 0.4em;background-color: white;}#sk-container-id-24 div.sk-label label {font-family: monospace;font-weight: bold;display: inline-block;line-height: 1.2em;}#sk-container-id-24 div.sk-label-container {text-align: center;}#sk-container-id-24 div.sk-container {/* jupyter's `normalize.less` sets `[hidden] { display: none; }` but bootstrap.min.css set `[hidden] { display: none !important; }` so we also need the `!important` here to be able to override the default hidden behavior on the sphinx rendered scikit-learn.org. See: https://github.com/scikit-learn/scikit-learn/issues/21755 */display: inline-block !important;position: relative;}#sk-container-id-24 div.sk-text-repr-fallback {display: none;}</style><div id=\"sk-container-id-24\" class=\"sk-top-container\"><div class=\"sk-text-repr-fallback\"><pre>SVC(C=2)</pre><b>In a Jupyter environment, please rerun this cell to show the HTML representation or trust the notebook. <br />On GitHub, the HTML representation is unable to render, please try loading this page with nbviewer.org.</b></div><div class=\"sk-container\" hidden><div class=\"sk-item\"><div class=\"sk-estimator sk-toggleable\"><input class=\"sk-toggleable__control sk-hidden--visually\" id=\"sk-estimator-id-24\" type=\"checkbox\" checked><label for=\"sk-estimator-id-24\" class=\"sk-toggleable__label sk-toggleable__label-arrow\">SVC</label><div class=\"sk-toggleable__content\"><pre>SVC(C=2)</pre></div></div></div></div></div>"
      ],
      "text/plain": [
       "SVC(C=2)"
      ]
     },
     "execution_count": 388,
     "metadata": {},
     "output_type": "execute_result"
    }
   ],
   "source": [
    "svc_simplest_input = SVC(C=2)\n",
    "svc_simplest_input.fit(X_train, y_train)"
   ]
  },
  {
   "attachments": {},
   "cell_type": "markdown",
   "id": "236becb6",
   "metadata": {},
   "source": [
    "#### Model evaluation"
   ]
  },
  {
   "cell_type": "code",
   "execution_count": 389,
   "id": "10bda830",
   "metadata": {},
   "outputs": [],
   "source": [
    "y_pred = svc_simplest_input.predict(X_test)"
   ]
  },
  {
   "cell_type": "code",
   "execution_count": 390,
   "id": "24022b29",
   "metadata": {},
   "outputs": [
    {
     "data": {
      "text/plain": [
       "0.5824390243902439"
      ]
     },
     "execution_count": 390,
     "metadata": {},
     "output_type": "execute_result"
    }
   ],
   "source": [
    "# tried modifing all the hyperparameters but it is the best I obtained \n",
    "accuracy_score(y_test, y_pred)"
   ]
  },
  {
   "cell_type": "code",
   "execution_count": 391,
   "id": "caa29841",
   "metadata": {},
   "outputs": [],
   "source": [
    "y_train_pred = svc_simplest_input.predict(X_train)"
   ]
  },
  {
   "cell_type": "code",
   "execution_count": 392,
   "id": "9328c941",
   "metadata": {},
   "outputs": [
    {
     "data": {
      "text/plain": [
       "0.7545686242611572"
      ]
     },
     "execution_count": 392,
     "metadata": {},
     "output_type": "execute_result"
    }
   ],
   "source": [
    "accuracy_score(y_train, y_train_pred)"
   ]
  },
  {
   "cell_type": "code",
   "execution_count": 393,
   "id": "568c5329",
   "metadata": {},
   "outputs": [],
   "source": [
    "confusion_M = confusion_matrix(y_test, y_pred)"
   ]
  },
  {
   "cell_type": "code",
   "execution_count": 397,
   "id": "dc1decf5",
   "metadata": {},
   "outputs": [
    {
     "data": {
      "text/plain": [
       "<AxesSubplot: >"
      ]
     },
     "execution_count": 397,
     "metadata": {},
     "output_type": "execute_result"
    },
    {
     "data": {
      "image/png": "[encoded data removed]",
      "text/plain": [
       "<Figure size 640x480 with 2 Axes>"
      ]
     },
     "metadata": {},
     "output_type": "display_data"
    }
   ],
   "source": [
    "# TODO: deal with exponentials view\n",
    "possible_reviews = range(1,6)\n",
    "confusion_M_df = pd.DataFrame(confusion_M, columns=possible_reviews, index=possible_reviews)\n",
    "\n",
    "sn.heatmap(confusion_M_df, annot=True, fmt='g', annot_kws={\"size\": 10})"
   ]
  },
  {
   "attachments": {},
   "cell_type": "markdown",
   "id": "31105012",
   "metadata": {},
   "source": [
    "### Classification with other parameters"
   ]
  },
  {
   "attachments": {},
   "cell_type": "markdown",
   "id": "8502b50e",
   "metadata": {},
   "source": [
    "#### Preparing train and test set"
   ]
  },
  {
   "cell_type": "code",
   "execution_count": 198,
   "id": "33b7d6f5",
   "metadata": {},
   "outputs": [
    {
     "name": "stderr",
     "output_type": "stream",
     "text": [
      "C:\\Users\\jjasi\\AppData\\Local\\Temp\\ipykernel_21704\\2440993339.py:1: SettingWithCopyWarning: \n",
      "A value is trying to be set on a copy of a slice from a DataFrame.\n",
      "Try using .loc[row_indexer,col_indexer] = value instead\n",
      "\n",
      "See the caveats in the documentation: https://pandas.pydata.org/pandas-docs/stable/user_guide/indexing.html#returning-a-view-versus-a-copy\n",
      "  reviews_for_classification['to_train'] = reviews_for_classification.apply(lambda row: row.doc2vec.extend([row.commas, row.words_number, row.average_length]), axis=1)\n"
     ]
    }
   ],
   "source": [
    "# reviews_for_classification['to_train'] = reviews_for_classification.apply(lambda row: row.doc2vec.extend([row.commas, row.words_number, row.average_length]), axis=1)"
   ]
  },
  {
   "cell_type": "code",
   "execution_count": 395,
   "id": "34ce8f32",
   "metadata": {},
   "outputs": [
    {
     "data": {
      "text/plain": [
       "35"
      ]
     },
     "execution_count": 395,
     "metadata": {},
     "output_type": "execute_result"
    }
   ],
   "source": [
    "X = []\n",
    "\n",
    "for _, row in reviews_for_classification.iterrows():\n",
    "    x = row.doc2vec.copy()\n",
    "    x.extend([row.words_number, row.commas, row.average_length])\n",
    "    X.append(x)\n",
    "\n",
    "len(X[0])"
   ]
  },
  {
   "cell_type": "code",
   "execution_count": 372,
   "id": "4340f736",
   "metadata": {},
   "outputs": [],
   "source": [
    "X_train, X_test, y_train, y_test = train_test_split(X, reviews_for_classification.Rating, \n",
    "                                                    test_size=0.1,\n",
    "                                                    random_state=42)"
   ]
  },
  {
   "cell_type": "code",
   "execution_count": 373,
   "id": "a8c0d20a",
   "metadata": {},
   "outputs": [
    {
     "data": {
      "text/plain": [
       "(18441, 18441, 2050, 2050)"
      ]
     },
     "execution_count": 373,
     "metadata": {},
     "output_type": "execute_result"
    }
   ],
   "source": [
    "len(X_train), len(y_train), len(X_test), len(y_test)"
   ]
  },
  {
   "cell_type": "code",
   "execution_count": 267,
   "id": "fbe986b5",
   "metadata": {},
   "outputs": [
    {
     "data": {
      "text/html": [
       "<style>#sk-container-id-12 {color: black;background-color: white;}#sk-container-id-12 pre{padding: 0;}#sk-container-id-12 div.sk-toggleable {background-color: white;}#sk-container-id-12 label.sk-toggleable__label {cursor: pointer;display: block;width: 100%;margin-bottom: 0;padding: 0.3em;box-sizing: border-box;text-align: center;}#sk-container-id-12 label.sk-toggleable__label-arrow:before {content: \"▸\";float: left;margin-right: 0.25em;color: #696969;}#sk-container-id-12 label.sk-toggleable__label-arrow:hover:before {color: black;}#sk-container-id-12 div.sk-estimator:hover label.sk-toggleable__label-arrow:before {color: black;}#sk-container-id-12 div.sk-toggleable__content {max-height: 0;max-width: 0;overflow: hidden;text-align: left;background-color: #f0f8ff;}#sk-container-id-12 div.sk-toggleable__content pre {margin: 0.2em;color: black;border-radius: 0.25em;background-color: #f0f8ff;}#sk-container-id-12 input.sk-toggleable__control:checked~div.sk-toggleable__content {max-height: 200px;max-width: 100%;overflow: auto;}#sk-container-id-12 input.sk-toggleable__control:checked~label.sk-toggleable__label-arrow:before {content: \"▾\";}#sk-container-id-12 div.sk-estimator input.sk-toggleable__control:checked~label.sk-toggleable__label {background-color: #d4ebff;}#sk-container-id-12 div.sk-label input.sk-toggleable__control:checked~label.sk-toggleable__label {background-color: #d4ebff;}#sk-container-id-12 input.sk-hidden--visually {border: 0;clip: rect(1px 1px 1px 1px);clip: rect(1px, 1px, 1px, 1px);height: 1px;margin: -1px;overflow: hidden;padding: 0;position: absolute;width: 1px;}#sk-container-id-12 div.sk-estimator {font-family: monospace;background-color: #f0f8ff;border: 1px dotted black;border-radius: 0.25em;box-sizing: border-box;margin-bottom: 0.5em;}#sk-container-id-12 div.sk-estimator:hover {background-color: #d4ebff;}#sk-container-id-12 div.sk-parallel-item::after {content: \"\";width: 100%;border-bottom: 1px solid gray;flex-grow: 1;}#sk-container-id-12 div.sk-label:hover label.sk-toggleable__label {background-color: #d4ebff;}#sk-container-id-12 div.sk-serial::before {content: \"\";position: absolute;border-left: 1px solid gray;box-sizing: border-box;top: 0;bottom: 0;left: 50%;z-index: 0;}#sk-container-id-12 div.sk-serial {display: flex;flex-direction: column;align-items: center;background-color: white;padding-right: 0.2em;padding-left: 0.2em;position: relative;}#sk-container-id-12 div.sk-item {position: relative;z-index: 1;}#sk-container-id-12 div.sk-parallel {display: flex;align-items: stretch;justify-content: center;background-color: white;position: relative;}#sk-container-id-12 div.sk-item::before, #sk-container-id-12 div.sk-parallel-item::before {content: \"\";position: absolute;border-left: 1px solid gray;box-sizing: border-box;top: 0;bottom: 0;left: 50%;z-index: -1;}#sk-container-id-12 div.sk-parallel-item {display: flex;flex-direction: column;z-index: 1;position: relative;background-color: white;}#sk-container-id-12 div.sk-parallel-item:first-child::after {align-self: flex-end;width: 50%;}#sk-container-id-12 div.sk-parallel-item:last-child::after {align-self: flex-start;width: 50%;}#sk-container-id-12 div.sk-parallel-item:only-child::after {width: 0;}#sk-container-id-12 div.sk-dashed-wrapped {border: 1px dashed gray;margin: 0 0.4em 0.5em 0.4em;box-sizing: border-box;padding-bottom: 0.4em;background-color: white;}#sk-container-id-12 div.sk-label label {font-family: monospace;font-weight: bold;display: inline-block;line-height: 1.2em;}#sk-container-id-12 div.sk-label-container {text-align: center;}#sk-container-id-12 div.sk-container {/* jupyter's `normalize.less` sets `[hidden] { display: none; }` but bootstrap.min.css set `[hidden] { display: none !important; }` so we also need the `!important` here to be able to override the default hidden behavior on the sphinx rendered scikit-learn.org. See: https://github.com/scikit-learn/scikit-learn/issues/21755 */display: inline-block !important;position: relative;}#sk-container-id-12 div.sk-text-repr-fallback {display: none;}</style><div id=\"sk-container-id-12\" class=\"sk-top-container\"><div class=\"sk-text-repr-fallback\"><pre>SVC(C=5)</pre><b>In a Jupyter environment, please rerun this cell to show the HTML representation or trust the notebook. <br />On GitHub, the HTML representation is unable to render, please try loading this page with nbviewer.org.</b></div><div class=\"sk-container\" hidden><div class=\"sk-item\"><div class=\"sk-estimator sk-toggleable\"><input class=\"sk-toggleable__control sk-hidden--visually\" id=\"sk-estimator-id-12\" type=\"checkbox\" checked><label for=\"sk-estimator-id-12\" class=\"sk-toggleable__label sk-toggleable__label-arrow\">SVC</label><div class=\"sk-toggleable__content\"><pre>SVC(C=5)</pre></div></div></div></div></div>"
      ],
      "text/plain": [
       "SVC(C=5)"
      ]
     },
     "execution_count": 267,
     "metadata": {},
     "output_type": "execute_result"
    }
   ],
   "source": [
    "# increasing C to weaken the L2 regularization\n",
    "# at first the classifier was predicting only rating 5\n",
    "svc_metadata = SVC(C=5)\n",
    "svc_metadata.fit(X_train, y_train)"
   ]
  },
  {
   "attachments": {},
   "cell_type": "markdown",
   "id": "bd604d8f",
   "metadata": {},
   "source": [
    "#### Model evaluation"
   ]
  },
  {
   "cell_type": "code",
   "execution_count": 268,
   "id": "e4e1fc34",
   "metadata": {},
   "outputs": [],
   "source": [
    "y_pred = svc_metadata.predict(X_test)"
   ]
  },
  {
   "cell_type": "code",
   "execution_count": 269,
   "id": "40737677",
   "metadata": {},
   "outputs": [
    {
     "data": {
      "text/plain": [
       "0.5195121951219512"
      ]
     },
     "execution_count": 269,
     "metadata": {},
     "output_type": "execute_result"
    }
   ],
   "source": [
    "accuracy_score(y_test, y_pred)"
   ]
  },
  {
   "cell_type": "code",
   "execution_count": 270,
   "id": "00fcedd1",
   "metadata": {},
   "outputs": [],
   "source": [
    "y_train_pred = svc_metadata.predict(X_train)"
   ]
  },
  {
   "cell_type": "code",
   "execution_count": 271,
   "id": "686681c7",
   "metadata": {},
   "outputs": [
    {
     "data": {
      "text/plain": [
       "0.5161867577680169"
      ]
     },
     "execution_count": 271,
     "metadata": {},
     "output_type": "execute_result"
    }
   ],
   "source": [
    "accuracy_score(y_train, y_train_pred)"
   ]
  },
  {
   "cell_type": "code",
   "execution_count": 273,
   "id": "7ff09fdc",
   "metadata": {},
   "outputs": [
    {
     "data": {
      "text/plain": [
       "<AxesSubplot: >"
      ]
     },
     "execution_count": 273,
     "metadata": {},
     "output_type": "execute_result"
    },
    {
     "data": {
      "image/png": "[encoded data removed]",
      "text/plain": [
       "<Figure size 640x480 with 2 Axes>"
      ]
     },
     "metadata": {},
     "output_type": "display_data"
    }
   ],
   "source": [
    "# TODO: deal with exponentials view\n",
    "confusion_M = confusion_matrix(y_test, y_pred)\n",
    "\n",
    "possible_reviews = range(1,6)\n",
    "confusion_M_df = pd.DataFrame(confusion_M, columns=possible_reviews, index=possible_reviews)\n",
    "\n",
    "sn.heatmap(confusion_M_df, annot=True, fmt='g', annot_kws={\"size\": 10})"
   ]
  },
  {
   "attachments": {},
   "cell_type": "markdown",
   "id": "8d36474d",
   "metadata": {},
   "source": [
    "The model with simpler input works better so from now it will be just this one used"
   ]
  },
  {
   "attachments": {},
   "cell_type": "markdown",
   "id": "d71a0f74",
   "metadata": {},
   "source": [
    "## KNeighborsClassifier"
   ]
  },
  {
   "cell_type": "code",
   "execution_count": 398,
   "id": "7a936825",
   "metadata": {},
   "outputs": [],
   "source": [
    "# since it is a very fast non-parametrical algoritm\n",
    "accuracies = []\n",
    "\n",
    "for n_neighbours in range(1, 50):\n",
    "    KNC = KNeighborsClassifier(n_neighbors=n_neighbours)\n",
    "    KNC.fit(X_train, y_train)\n",
    "    y_pred = KNC.predict(X_test)\n",
    "\n",
    "    acc = accuracy_score(y_test, y_pred)\n",
    "    accuracies.append(acc)"
   ]
  },
  {
   "cell_type": "code",
   "execution_count": 399,
   "id": "c54afdf3",
   "metadata": {},
   "outputs": [],
   "source": [
    "best_n_neighbours = np.argmax(accuracies) + 1"
   ]
  },
  {
   "cell_type": "code",
   "execution_count": 400,
   "id": "2cd0906a",
   "metadata": {},
   "outputs": [
    {
     "data": {
      "text/html": [
       "<style>#sk-container-id-25 {color: black;background-color: white;}#sk-container-id-25 pre{padding: 0;}#sk-container-id-25 div.sk-toggleable {background-color: white;}#sk-container-id-25 label.sk-toggleable__label {cursor: pointer;display: block;width: 100%;margin-bottom: 0;padding: 0.3em;box-sizing: border-box;text-align: center;}#sk-container-id-25 label.sk-toggleable__label-arrow:before {content: \"▸\";float: left;margin-right: 0.25em;color: #696969;}#sk-container-id-25 label.sk-toggleable__label-arrow:hover:before {color: black;}#sk-container-id-25 div.sk-estimator:hover label.sk-toggleable__label-arrow:before {color: black;}#sk-container-id-25 div.sk-toggleable__content {max-height: 0;max-width: 0;overflow: hidden;text-align: left;background-color: #f0f8ff;}#sk-container-id-25 div.sk-toggleable__content pre {margin: 0.2em;color: black;border-radius: 0.25em;background-color: #f0f8ff;}#sk-container-id-25 input.sk-toggleable__control:checked~div.sk-toggleable__content {max-height: 200px;max-width: 100%;overflow: auto;}#sk-container-id-25 input.sk-toggleable__control:checked~label.sk-toggleable__label-arrow:before {content: \"▾\";}#sk-container-id-25 div.sk-estimator input.sk-toggleable__control:checked~label.sk-toggleable__label {background-color: #d4ebff;}#sk-container-id-25 div.sk-label input.sk-toggleable__control:checked~label.sk-toggleable__label {background-color: #d4ebff;}#sk-container-id-25 input.sk-hidden--visually {border: 0;clip: rect(1px 1px 1px 1px);clip: rect(1px, 1px, 1px, 1px);height: 1px;margin: -1px;overflow: hidden;padding: 0;position: absolute;width: 1px;}#sk-container-id-25 div.sk-estimator {font-family: monospace;background-color: #f0f8ff;border: 1px dotted black;border-radius: 0.25em;box-sizing: border-box;margin-bottom: 0.5em;}#sk-container-id-25 div.sk-estimator:hover {background-color: #d4ebff;}#sk-container-id-25 div.sk-parallel-item::after {content: \"\";width: 100%;border-bottom: 1px solid gray;flex-grow: 1;}#sk-container-id-25 div.sk-label:hover label.sk-toggleable__label {background-color: #d4ebff;}#sk-container-id-25 div.sk-serial::before {content: \"\";position: absolute;border-left: 1px solid gray;box-sizing: border-box;top: 0;bottom: 0;left: 50%;z-index: 0;}#sk-container-id-25 div.sk-serial {display: flex;flex-direction: column;align-items: center;background-color: white;padding-right: 0.2em;padding-left: 0.2em;position: relative;}#sk-container-id-25 div.sk-item {position: relative;z-index: 1;}#sk-container-id-25 div.sk-parallel {display: flex;align-items: stretch;justify-content: center;background-color: white;position: relative;}#sk-container-id-25 div.sk-item::before, #sk-container-id-25 div.sk-parallel-item::before {content: \"\";position: absolute;border-left: 1px solid gray;box-sizing: border-box;top: 0;bottom: 0;left: 50%;z-index: -1;}#sk-container-id-25 div.sk-parallel-item {display: flex;flex-direction: column;z-index: 1;position: relative;background-color: white;}#sk-container-id-25 div.sk-parallel-item:first-child::after {align-self: flex-end;width: 50%;}#sk-container-id-25 div.sk-parallel-item:last-child::after {align-self: flex-start;width: 50%;}#sk-container-id-25 div.sk-parallel-item:only-child::after {width: 0;}#sk-container-id-25 div.sk-dashed-wrapped {border: 1px dashed gray;margin: 0 0.4em 0.5em 0.4em;box-sizing: border-box;padding-bottom: 0.4em;background-color: white;}#sk-container-id-25 div.sk-label label {font-family: monospace;font-weight: bold;display: inline-block;line-height: 1.2em;}#sk-container-id-25 div.sk-label-container {text-align: center;}#sk-container-id-25 div.sk-container {/* jupyter's `normalize.less` sets `[hidden] { display: none; }` but bootstrap.min.css set `[hidden] { display: none !important; }` so we also need the `!important` here to be able to override the default hidden behavior on the sphinx rendered scikit-learn.org. See: https://github.com/scikit-learn/scikit-learn/issues/21755 */display: inline-block !important;position: relative;}#sk-container-id-25 div.sk-text-repr-fallback {display: none;}</style><div id=\"sk-container-id-25\" class=\"sk-top-container\"><div class=\"sk-text-repr-fallback\"><pre>KNeighborsClassifier(n_neighbors=24)</pre><b>In a Jupyter environment, please rerun this cell to show the HTML representation or trust the notebook. <br />On GitHub, the HTML representation is unable to render, please try loading this page with nbviewer.org.</b></div><div class=\"sk-container\" hidden><div class=\"sk-item\"><div class=\"sk-estimator sk-toggleable\"><input class=\"sk-toggleable__control sk-hidden--visually\" id=\"sk-estimator-id-25\" type=\"checkbox\" checked><label for=\"sk-estimator-id-25\" class=\"sk-toggleable__label sk-toggleable__label-arrow\">KNeighborsClassifier</label><div class=\"sk-toggleable__content\"><pre>KNeighborsClassifier(n_neighbors=24)</pre></div></div></div></div></div>"
      ],
      "text/plain": [
       "KNeighborsClassifier(n_neighbors=24)"
      ]
     },
     "execution_count": 400,
     "metadata": {},
     "output_type": "execute_result"
    }
   ],
   "source": [
    "KNC = KNeighborsClassifier(n_neighbors=best_n_neighbours)\n",
    "KNC.fit(X_train, y_train)"
   ]
  },
  {
   "cell_type": "code",
   "execution_count": 401,
   "id": "e315fb13",
   "metadata": {},
   "outputs": [],
   "source": [
    "y_pred = KNC.predict(X_test)"
   ]
  },
  {
   "cell_type": "code",
   "execution_count": 402,
   "id": "332b5d54",
   "metadata": {},
   "outputs": [
    {
     "data": {
      "text/plain": [
       "0.5487804878048781"
      ]
     },
     "execution_count": 402,
     "metadata": {},
     "output_type": "execute_result"
    }
   ],
   "source": [
    "accuracy_score(y_test, y_pred)"
   ]
  },
  {
   "cell_type": "code",
   "execution_count": 403,
   "id": "54b88a47",
   "metadata": {},
   "outputs": [
    {
     "data": {
      "text/plain": [
       "<AxesSubplot: >"
      ]
     },
     "execution_count": 403,
     "metadata": {},
     "output_type": "execute_result"
    },
    {
     "data": {
      "image/png": "[encoded data removed]",
      "text/plain": [
       "<Figure size 640x480 with 2 Axes>"
      ]
     },
     "metadata": {},
     "output_type": "display_data"
    }
   ],
   "source": [
    "# TODO: deal with exponentials view\n",
    "confusion_M = confusion_matrix(y_test, y_pred)\n",
    "\n",
    "possible_reviews = range(1,6)\n",
    "confusion_M_df = pd.DataFrame(confusion_M, columns=possible_reviews, index=possible_reviews)\n",
    "\n",
    "sn.heatmap(confusion_M_df, annot=True, fmt='g', annot_kws={\"size\": 10})"
   ]
  },
  {
   "attachments": {},
   "cell_type": "markdown",
   "id": "14ddeb2c",
   "metadata": {},
   "source": [
    "## Random Forest"
   ]
  },
  {
   "cell_type": "code",
   "execution_count": 404,
   "id": "3f2da222",
   "metadata": {},
   "outputs": [],
   "source": [
    "RFC = RandomForestClassifier(max_depth=10, random_state=42)"
   ]
  },
  {
   "cell_type": "code",
   "execution_count": 405,
   "id": "23990b26",
   "metadata": {},
   "outputs": [
    {
     "data": {
      "text/html": [
       "<style>#sk-container-id-26 {color: black;background-color: white;}#sk-container-id-26 pre{padding: 0;}#sk-container-id-26 div.sk-toggleable {background-color: white;}#sk-container-id-26 label.sk-toggleable__label {cursor: pointer;display: block;width: 100%;margin-bottom: 0;padding: 0.3em;box-sizing: border-box;text-align: center;}#sk-container-id-26 label.sk-toggleable__label-arrow:before {content: \"▸\";float: left;margin-right: 0.25em;color: #696969;}#sk-container-id-26 label.sk-toggleable__label-arrow:hover:before {color: black;}#sk-container-id-26 div.sk-estimator:hover label.sk-toggleable__label-arrow:before {color: black;}#sk-container-id-26 div.sk-toggleable__content {max-height: 0;max-width: 0;overflow: hidden;text-align: left;background-color: #f0f8ff;}#sk-container-id-26 div.sk-toggleable__content pre {margin: 0.2em;color: black;border-radius: 0.25em;background-color: #f0f8ff;}#sk-container-id-26 input.sk-toggleable__control:checked~div.sk-toggleable__content {max-height: 200px;max-width: 100%;overflow: auto;}#sk-container-id-26 input.sk-toggleable__control:checked~label.sk-toggleable__label-arrow:before {content: \"▾\";}#sk-container-id-26 div.sk-estimator input.sk-toggleable__control:checked~label.sk-toggleable__label {background-color: #d4ebff;}#sk-container-id-26 div.sk-label input.sk-toggleable__control:checked~label.sk-toggleable__label {background-color: #d4ebff;}#sk-container-id-26 input.sk-hidden--visually {border: 0;clip: rect(1px 1px 1px 1px);clip: rect(1px, 1px, 1px, 1px);height: 1px;margin: -1px;overflow: hidden;padding: 0;position: absolute;width: 1px;}#sk-container-id-26 div.sk-estimator {font-family: monospace;background-color: #f0f8ff;border: 1px dotted black;border-radius: 0.25em;box-sizing: border-box;margin-bottom: 0.5em;}#sk-container-id-26 div.sk-estimator:hover {background-color: #d4ebff;}#sk-container-id-26 div.sk-parallel-item::after {content: \"\";width: 100%;border-bottom: 1px solid gray;flex-grow: 1;}#sk-container-id-26 div.sk-label:hover label.sk-toggleable__label {background-color: #d4ebff;}#sk-container-id-26 div.sk-serial::before {content: \"\";position: absolute;border-left: 1px solid gray;box-sizing: border-box;top: 0;bottom: 0;left: 50%;z-index: 0;}#sk-container-id-26 div.sk-serial {display: flex;flex-direction: column;align-items: center;background-color: white;padding-right: 0.2em;padding-left: 0.2em;position: relative;}#sk-container-id-26 div.sk-item {position: relative;z-index: 1;}#sk-container-id-26 div.sk-parallel {display: flex;align-items: stretch;justify-content: center;background-color: white;position: relative;}#sk-container-id-26 div.sk-item::before, #sk-container-id-26 div.sk-parallel-item::before {content: \"\";position: absolute;border-left: 1px solid gray;box-sizing: border-box;top: 0;bottom: 0;left: 50%;z-index: -1;}#sk-container-id-26 div.sk-parallel-item {display: flex;flex-direction: column;z-index: 1;position: relative;background-color: white;}#sk-container-id-26 div.sk-parallel-item:first-child::after {align-self: flex-end;width: 50%;}#sk-container-id-26 div.sk-parallel-item:last-child::after {align-self: flex-start;width: 50%;}#sk-container-id-26 div.sk-parallel-item:only-child::after {width: 0;}#sk-container-id-26 div.sk-dashed-wrapped {border: 1px dashed gray;margin: 0 0.4em 0.5em 0.4em;box-sizing: border-box;padding-bottom: 0.4em;background-color: white;}#sk-container-id-26 div.sk-label label {font-family: monospace;font-weight: bold;display: inline-block;line-height: 1.2em;}#sk-container-id-26 div.sk-label-container {text-align: center;}#sk-container-id-26 div.sk-container {/* jupyter's `normalize.less` sets `[hidden] { display: none; }` but bootstrap.min.css set `[hidden] { display: none !important; }` so we also need the `!important` here to be able to override the default hidden behavior on the sphinx rendered scikit-learn.org. See: https://github.com/scikit-learn/scikit-learn/issues/21755 */display: inline-block !important;position: relative;}#sk-container-id-26 div.sk-text-repr-fallback {display: none;}</style><div id=\"sk-container-id-26\" class=\"sk-top-container\"><div class=\"sk-text-repr-fallback\"><pre>RandomForestClassifier(max_depth=10, random_state=42)</pre><b>In a Jupyter environment, please rerun this cell to show the HTML representation or trust the notebook. <br />On GitHub, the HTML representation is unable to render, please try loading this page with nbviewer.org.</b></div><div class=\"sk-container\" hidden><div class=\"sk-item\"><div class=\"sk-estimator sk-toggleable\"><input class=\"sk-toggleable__control sk-hidden--visually\" id=\"sk-estimator-id-26\" type=\"checkbox\" checked><label for=\"sk-estimator-id-26\" class=\"sk-toggleable__label sk-toggleable__label-arrow\">RandomForestClassifier</label><div class=\"sk-toggleable__content\"><pre>RandomForestClassifier(max_depth=10, random_state=42)</pre></div></div></div></div></div>"
      ],
      "text/plain": [
       "RandomForestClassifier(max_depth=10, random_state=42)"
      ]
     },
     "execution_count": 405,
     "metadata": {},
     "output_type": "execute_result"
    }
   ],
   "source": [
    "RFC.fit(X_train, y_train)"
   ]
  },
  {
   "cell_type": "code",
   "execution_count": 406,
   "id": "e43c3ead",
   "metadata": {},
   "outputs": [],
   "source": [
    "y_pred = RFC.predict(X_test)"
   ]
  },
  {
   "cell_type": "code",
   "execution_count": 407,
   "id": "bda76a2c",
   "metadata": {},
   "outputs": [
    {
     "data": {
      "text/plain": [
       "0.5448780487804878"
      ]
     },
     "execution_count": 407,
     "metadata": {},
     "output_type": "execute_result"
    }
   ],
   "source": [
    "accuracy_score(y_test, y_pred)"
   ]
  },
  {
   "cell_type": "code",
   "execution_count": 408,
   "id": "1f961ac2",
   "metadata": {},
   "outputs": [
    {
     "data": {
      "text/plain": [
       "<AxesSubplot: >"
      ]
     },
     "execution_count": 408,
     "metadata": {},
     "output_type": "execute_result"
    },
    {
     "data": {
      "image/png": "[encoded data removed]",
      "text/plain": [
       "<Figure size 640x480 with 2 Axes>"
      ]
     },
     "metadata": {},
     "output_type": "display_data"
    }
   ],
   "source": [
    "# TODO: deal with exponentials view\n",
    "confusion_M = confusion_matrix(y_test, y_pred)\n",
    "\n",
    "possible_reviews = range(1,6)\n",
    "confusion_M_df = pd.DataFrame(confusion_M, columns=possible_reviews, index=possible_reviews)\n",
    "\n",
    "sn.heatmap(confusion_M_df, annot=True, fmt='g', annot_kws={\"size\": 10})"
   ]
  },
  {
   "attachments": {},
   "cell_type": "markdown",
   "id": "bc6f2631",
   "metadata": {},
   "source": [
    "## Neural networks"
   ]
  },
  {
   "attachments": {},
   "cell_type": "markdown",
   "id": "8293f19f",
   "metadata": {},
   "source": [
    "### FNN"
   ]
  },
  {
   "cell_type": "code",
   "execution_count": null,
   "id": "e39c46a5",
   "metadata": {},
   "outputs": [],
   "source": [
    "# Should we even try it?"
   ]
  }
 ],
 "metadata": {
  "kernelspec": {
   "display_name": "nlp",
   "language": "python",
   "name": "python3"
  },
  "language_info": {
   "codemirror_mode": {
    "name": "ipython",
    "version": 3
   },
   "file_extension": ".py",
   "mimetype": "text/x-python",
   "name": "python",
   "nbconvert_exporter": "python",
   "pygments_lexer": "ipython3",
   "version": "3.9.16"
  },
  "vscode": {
   "interpreter": {
    "hash": "f3fe963e9a0b83cf28a8362cc78f49f353a5c8ac3bda40b0ce31664e419000ce"
   }
  }
 },
 "nbformat": 4,
 "nbformat_minor": 5
}
